{
 "cells": [
  {
   "cell_type": "markdown",
   "metadata": {},
   "source": [
    "  a)   A right angled triangle has the catheti: a = 3 and b = 4 length units. Compute the hypothenuse of the triangle. (*)\n",
    "\n",
    "  b)   A right angled triangle has hypothenuse c = 7.0 and a cathetus a = 5.0 length units. Compute the other cathetus and round to one decimal. (*)"
   ]
  },
  {
   "cell_type": "markdown",
   "metadata": {},
   "source": [
    "Answer \n",
    "a)\n",
    "The hypothenuse is 5 length units\n",
    "\n",
    "b)\n",
    "The other cathetus is 4.9 length units"
   ]
  },
  {
   "cell_type": "markdown",
   "metadata": {},
   "source": [
    "2. # Classification accuracy (*)\n",
    "A machine learning algorithm has been trained to predict whether or not it would rain the next day. Out of 365 predictions, it got 300 correct, compute the accuracy of this model."
   ]
  },
  {
   "cell_type": "code",
   "execution_count": 1,
   "metadata": {},
   "outputs": [
    {
     "name": "stdout",
     "output_type": "stream",
     "text": [
      "Accuracy: 83.33333333333334 %\n"
     ]
    }
   ],
   "source": [
    "# Given values\n",
    "correct_predictions = 300\n",
    "total_predictions = 360\n",
    "\n",
    "# Calculate accuracy \n",
    "accuracy = correct_predictions / total_predictions\n",
    "\n",
    "# Convert to percentage for better interpretation\n",
    "accuracy_percentage = accuracy * 100\n",
    "\n",
    "print(\"Accuracy:\", accuracy_percentage, \"%\")"
   ]
  },
  {
   "cell_type": "markdown",
   "metadata": {},
   "source": [
    "3. Classification accuracy (*)\n",
    "A machine learning model has been trained to detect fire. Here is the result of its predictions:\n",
    "\n",
    "Calculated the accuracy using the following formula:\n",
    "\n",
    "\n",
    "Answer\n",
    "The accuracy of this model is 0.987."
   ]
  },
  {
   "cell_type": "markdown",
   "metadata": {},
   "source": [
    "\n"
   ]
  }
 ],
 "metadata": {
  "kernelspec": {
   "display_name": "NedyaIbrahim-AI23GBG-WRK3xpSZ",
   "language": "python",
   "name": "python3"
  },
  "language_info": {
   "codemirror_mode": {
    "name": "ipython",
    "version": 3
   },
   "file_extension": ".py",
   "mimetype": "text/x-python",
   "name": "python",
   "nbconvert_exporter": "python",
   "pygments_lexer": "ipython3",
   "version": "3.11.5"
  },
  "orig_nbformat": 4
 },
 "nbformat": 4,
 "nbformat_minor": 2
}
