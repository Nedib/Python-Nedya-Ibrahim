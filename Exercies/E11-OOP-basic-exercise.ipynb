{
 "cells": [
  {
   "cell_type": "markdown",
   "metadata": {},
   "source": [
    "\n",
    "<a href=\"https://colab.research.google.com/github/kokchun/Python-course-AI22/blob/main/Exercises/E11-OOP-basic-exercise.ipynb\" target=\"_parent\"><img align=\"left\" src=\"https://colab.research.google.com/assets/colab-badge.svg\" alt=\"Open In Colab\"/></a> &nbsp; to see hints and answers."
   ]
  },
  {
   "cell_type": "markdown",
   "metadata": {},
   "source": [
    "# OOP introductory exercises\n",
    "\n",
    "---\n",
    "These are introductory exercises in Python with focus in **Object oriented programming**.\n",
    "\n",
    "<p class = \"alert alert-info\" role=\"alert\"><b>Remember</b> to use <b>descriptive variable, function and class names</b> in order to get readable code </p>\n",
    "\n",
    "<p class = \"alert alert-info\" role=\"alert\"><b>Remember</b> to format your answers in a neat way using <b>f-strings</b></p>\n",
    "\n",
    "The number of stars (\\*), (\\*\\*), (\\*\\*\\*) denotes the difficulty level of the task\n",
    "\n",
    "---"
   ]
  },
  {
   "cell_type": "markdown",
   "metadata": {},
   "source": [
    "## 1. Step tracker\n",
    "\n",
    "Create a class that can be used as a step tracker. It should have a property \"steps\" that is read only; a method step() that increases \"steps\" by 1 each time it is called; and a method reset() that resets the counter.\n",
    "\n",
    "Instantiate the class, and write a loop that simulates walking 1000 steps. Then print the value of \"steps\"."
   ]
  },
  {
   "cell_type": "code",
   "execution_count": null,
   "metadata": {
    "vscode": {
     "languageId": "plaintext"
    }
   },
   "outputs": [],
   "source": [
    "class StepTracker:\n",
    "    def __init__(self):\n",
    "        self._steps = 0\n",
    "\n",
    "    @property\n",
    "    def steps(self):\n",
    "        return self._steps\n",
    "\n",
    "    def step(self):\n",
    "        self._steps += 1\n",
    "\n",
    "    def reset(self):\n",
    "        self._steps = 0\n",
    "\n",
    "tracker = StepTracker()\n",
    "\n",
    "for _ in range(1000):\n",
    "    tracker.step()\n",
    "\n",
    "print(\"Total steps walked:\", tracker.steps)"
   ]
  },
  {
   "cell_type": "markdown",
   "metadata": {},
   "source": [
    "---\n",
    "## 2. Empty/full glass simulator (*)\n",
    "\n",
    "Create a class that represents a glass of water. It should have a method for filling the glass, and another method for emptying the glass. Also, there needs to be an internal/private attribute that keeps track of if the glass is empty or full. Depending on the current state (empty/full), the method that fills the glass should print either \"Filling the glass with water\" or \"The glass is already full\". The other method should print either \"Emptying the glass\" or \"The glass is already empty\".\n",
    "\n",
    "**Additional exercise:** Add another method to break the glass. Every glass (instance) keeps track of it's internal state, and prints what happens when the different methods are executed. Eg. \"The glass breaks. Now there is water all over the floor\", or \"The glass can not be filled, since it's broken\", etc."
   ]
  },
  {
   "cell_type": "code",
   "execution_count": null,
   "metadata": {
    "vscode": {
     "languageId": "plaintext"
    }
   },
   "outputs": [],
   "source": [
    "class Glass:\n",
    "    def __init__(self):\n",
    "        self._is_empty = True\n",
    "        self._is_broken = False\n",
    "\n",
    "    def fill(self):\n",
    "        if not self._is_broken:\n",
    "            if self._is_empty:\n",
    "                print(\"Filling the glass with water\")\n",
    "                self._is_empty = False\n",
    "            else:\n",
    "                print(\"The glass is already full\")\n",
    "        else:\n",
    "            print(\"The glass can not be filled, since it's broken\")\n",
    "\n",
    "    def empty(self):\n",
    "        if not self._is_broken:\n",
    "            if not self._is_empty:\n",
    "                print(\"Emptying the glass\")\n",
    "                self._is_empty = True\n",
    "            else:\n",
    "                print(\"The glass is already empty\")\n",
    "        else:\n",
    "            print(\"The glass can not be emptied, since it's broken\")\n",
    "\n",
    "    def break_glass(self):\n",
    "        if not self._is_broken:\n",
    "            print(\"The glass breaks. Now there is water all over the floor\")\n",
    "            self._is_broken = True\n",
    "        else:\n",
    "            print(\"The glass is already broken\")\n",
    "\n",
    "# Instantiate the Glass class\n",
    "glass = Glass()\n",
    "\n",
    "# Test the glass methods\n",
    "glass.fill()\n",
    "glass.fill()\n",
    "glass.empty()\n",
    "glass.empty()\n",
    "glass.break_glass()\n",
    "glass.fill()\n",
    "glass.empty()\n",
    "glass.break_glass()"
   ]
  },
  {
   "cell_type": "markdown",
   "metadata": {},
   "source": [
    "---\n",
    "## 3. Red and blue (*)\n",
    "\n",
    "Create a class that has a property \"red\", and a property \"blue\". Both should be floats, and be able to take any value between 0.0 and 100.0. However, they should be \"linked\" in such a way that the sum of \"red\" and \"blue\" always is 100.0. i.e. if we set the value of \"blue\" to 8.5, and then read the value of \"red\", it should return 91.5"
   ]
  },
  {
   "cell_type": "code",
   "execution_count": null,
   "metadata": {},
   "outputs": [],
   "source": [
    "class ColorMixer:\n",
    "    def __init__(self):\n",
    "        self._red = 50.0\n",
    "        self._blue = 50.0\n",
    "\n",
    "    @property\n",
    "    def red(self):\n",
    "        return self._red\n",
    "\n",
    "    @red.setter\n",
    "    def red(self, value):\n",
    "        if 0.0 <= value <= 100.0:\n",
    "            self._red = value\n",
    "            self._blue = 100.0 - value\n",
    "        else:\n",
    "            raise ValueError(\"Red value must be between 0.0 and 100.0\")\n",
    "\n",
    "    @property\n",
    "    def blue(self):\n",
    "        return self._blue\n",
    "\n",
    "    @blue.setter\n",
    "    def blue(self, value):\n",
    "        if 0.0 <= value <= 100.0:\n",
    "            self._blue = value\n",
    "            self._red = 100.0 - value\n",
    "        else:\n",
    "            raise ValueError(\"Blue value must be between 0.0 and 100.0\")\n",
    "\n",
    "# Instantiate the ColorMixer class\n",
    "color_mixer = ColorMixer()\n",
    "\n",
    "# Set the value of \"blue\" and calculate \"red\"\n",
    "color_mixer.blue = 8.5\n",
    "print(\"Red:\", color_mixer.red)  # Should print 91.5\n",
    "\n",
    "# Set the value of \"red\" and calculate \"blue\"\n",
    "color_mixer.red = 30.0\n",
    "print(\"Blue:\", color_mixer.blue)  # Should print 70.0"
   ]
  },
  {
   "cell_type": "markdown",
   "metadata": {},
   "source": [
    "---\n",
    "## 4. One thousand cars (*)\n",
    "\n",
    "Create a class that represents a car. Every car can have a color and a length. When a new car is instantiated it gets a random color, and a random length (between 3 and 5 meters). Instatiate 1000 cars a save them in a list. Then print the sum of the length of all green cars in the list."
   ]
  },
  {
   "cell_type": "code",
   "execution_count": null,
   "metadata": {},
   "outputs": [],
   "source": [
    "import random\n",
    "\n",
    "class Car:\n",
    "    def __init__(self):\n",
    "        self.color = self.random_color()\n",
    "        self.length = self.random_length()\n",
    "\n",
    "    def random_color(self):\n",
    "        colors = [\"red\", \"blue\", \"green\", \"yellow\", \"black\", \"white\"]\n",
    "        return random.choice(colors)\n",
    "\n",
    "    def random_length(self):\n",
    "        return random.uniform(3, 5)\n",
    "\n",
    "# Instantiate 1000 cars and store them in a list\n",
    "cars = [Car() for _ in range(1000)]\n",
    "\n",
    "# Calculate the sum of the length of all green cars\n",
    "total_length_of_green_cars = sum(car.length for car in cars if car.color == \"green\")\n",
    "\n",
    "print(\"Sum of the length of all green cars:\", total_length_of_green_cars)"
   ]
  },
  {
   "cell_type": "markdown",
   "metadata": {},
   "source": [
    "---\n",
    "## 5. Email (**)\n",
    "\n",
    "Create an email class with a property \"address\". When we set this property it should validate that we gave it a proper email address by checking that it contains one or more letter, followed by an at-sign (@), followed by one or more letter, then a dot (.), then at least to letters.\n",
    "\n",
    "We should also be able to provide the address directly, when creating an new instance of the class (it must still be validated).\n",
    "\n",
    "The class should also have the following properties: \"username\", \"domainname\", and \"topdomain\" implemented in such a way that, if we set the address to \"fredrik@everyloop.com\", the username should read \"fredrik\", the domainname should read \"everyloop.com\", and the topdomain should read \"com\".\n",
    "\n",
    "When changing any of the four properties, all the others must be updated accordingly; and the address must always remain valid."
   ]
  },
  {
   "cell_type": "code",
   "execution_count": null,
   "metadata": {},
   "outputs": [],
   "source": [
    "class Email:\n",
    "    def __init__(self, address):\n",
    "        self.address = address\n",
    "\n",
    "    @property\n",
    "    def address(self):\n",
    "        return f\"{self.username}@{self.domainname}.{self.topdomain}\"\n",
    "\n",
    "    @address.setter\n",
    "    def address(self, value):\n",
    "        if self.validate_email(value):\n",
    "            parts = value.split(\"@\")\n",
    "            self.username, self.domainname = parts[0], parts[1].split(\".\")[0]\n",
    "            self.topdomain = parts[1].split(\".\")[1]\n",
    "        else:\n",
    "            raise ValueError(\"Invalid email address\")\n",
    "\n",
    "    def validate_email(self, email):\n",
    "        import re\n",
    "        pattern = r\"^[a-zA-Z]+@[a-zA-Z]+\\.[a-zA-Z]{2,}$\"\n",
    "        return re.match(pattern, email) is not None\n",
    "\n",
    "    @property\n",
    "    def username(self):\n",
    "        return self._username\n",
    "\n",
    "    @username.setter\n",
    "    def username(self, value):\n",
    "        self._username = value\n",
    "\n",
    "    @property\n",
    "    def domainname(self):\n",
    "        return self._domainname\n",
    "\n",
    "    @domainname.setter\n",
    "    def domainname(self, value):\n",
    "        self._domainname = value\n",
    "\n",
    "    @property\n",
    "    def topdomain(self):\n",
    "        return self._topdomain\n",
    "\n",
    "    @topdomain.setter\n",
    "    def topdomain(self, value):\n",
    "        self._topdomain = value\n",
    "\n",
    "# Create an Email instance with a valid address\n",
    "try:\n",
    "    email = Email(\"fredrik@everyloop.com\")\n",
    "    print(\"Address:\", email.address)\n",
    "    print(\"Username:\", email.username)\n",
    "    print(\"Domain Name:\", email.domainname)\n",
    "    print(\"Top Domain:\", email.topdomain)\n",
    "except ValueError as e:\n",
    "    print(e)\n",
    "\n",
    "# Attempt to set an invalid email address\n",
    "try:\n",
    "    email.address = \"invalid_email_address\"\n",
    "except ValueError as e:\n",
    "    print(\"Error:\", e)"
   ]
  },
  {
   "cell_type": "markdown",
   "metadata": {},
   "source": [
    "---\n",
    "\n",
    "Fredrik Johansson\n",
    "\n",
    "[everyloop.com](https://www.everyloop.com)\n",
    "\n",
    "---"
   ]
  }
 ],
 "metadata": {
  "kernelspec": {
   "display_name": "Python 3.9.6 64-bit",
   "language": "python",
   "name": "python3"
  },
  "language_info": {
   "name": "python",
   "version": "3.11.5"
  },
  "orig_nbformat": 4,
  "vscode": {
   "interpreter": {
    "hash": "0da836a34428266995a795f1e1e27b816fa1c02f148d9728b3fbbbc5459afca6"
   }
  }
 },
 "nbformat": 4,
 "nbformat_minor": 2
}
