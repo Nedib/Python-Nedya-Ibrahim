{
 "cells": [
  {
   "cell_type": "markdown",
   "metadata": {},
   "source": [
    "\n",
    "<a href=\"https://colab.research.google.com/github/kokchun/Python-course-AI22/blob/main/Exercises/00-Count-with-Python-exercise.ipynb\" target=\"_parent\"><img align=\"left\" src=\"https://colab.research.google.com/assets/colab-badge.svg\" alt=\"Open In Colab\"/></a> &nbsp; to see hints and answers."
   ]
  },
  {
   "cell_type": "markdown",
   "metadata": {},
   "source": [
    "# Count with Python\n",
    "\n",
    "---\n",
    "These are introductory exercises in Python for fundamental mathematics. It is important to both know mathematics as well as Python in order to understand machine learning concepts. Also a focus here is to use Python as a tool for solving mathematical problems.\n",
    "\n",
    "<p class = \"alert alert-info\" role=\"alert\"><b>Remember</b> to use <b>variables</b> in your computations </p>\n",
    "\n",
    "<p class = \"alert alert-info\" role=\"alert\"><b>Remember</b> to format your answers in a neat way using <b>f-strings</b>\n",
    "\n",
    "The number of stars (\\*), (\\*\\*), (\\*\\*\\*) denotes the difficulty level of the task\n",
    "\n",
    "---"
   ]
  },
  {
   "cell_type": "markdown",
   "metadata": {},
   "source": [
    "## 1. Pythagorean theorem (*)\n",
    "\n",
    "&nbsp; a) &nbsp;  A right angled triangle has the catheti: a = 3 and b = 4 length units. Compute the <b>hypothenuse</b> of the triangle. (*) \n",
    "  \n",
    "&nbsp; b) &nbsp;  A right angled triangle has hypothenuse c = 7.0 and a cathetus a = 5.0 length units. Compute the other cathetus and round to one decimal. (*)\n",
    "\n",
    "<img align=\"left\" src=\"../Assets/right-angle-triangle.png\" width=\"200\"/>"
   ]
  },
  {
   "cell_type": "markdown",
   "metadata": {},
   "source": [
    "\n",
    "<details>\n",
    "\n",
    "<summary>Hint</summary>\n",
    "\n",
    "[Video lecture][pythagoras_video] (swedish)\n",
    "\n",
    "[pythagoras_video]: https://www.youtube.com/watch?v=3iivEnKEJ88\n",
    "\n",
    "To do square root in Python\n",
    "```python \n",
    "import math\n",
    "math.sqrt()\n",
    "```\n",
    "\n",
    "</details>\n",
    "<br>\n",
    "<details>\n",
    "\n",
    "<summary>Answer</summary>\n",
    "a)\n",
    "\n",
    "```\n",
    "The hypothenuse is 5 length units\n",
    "```\n",
    "\n",
    "b)\n",
    "\n",
    "```\n",
    "The other cathetus is 4.9 length units\n",
    "```\n",
    "\n",
    "</details>"
   ]
  },
  {
   "cell_type": "code",
   "execution_count": 16,
   "metadata": {},
   "outputs": [
    {
     "name": "stdout",
     "output_type": "stream",
     "text": [
      "The hypotenuse of the triangel is: 5.0\n",
      "The other cathetus is: 4.9\n"
     ]
    }
   ],
   "source": [
    "#A\n",
    "import math\n",
    "math.sqrt\n",
    "\n",
    "a = 3\n",
    "b = 4\n",
    "c = math.sqrt(a**2 + b**2)\n",
    "\n",
    "print(f\"The hypotenuse ot the triangel is: {c}\")\n",
    "\n",
    "\n",
    "#b\n",
    "import math\n",
    "\n",
    "c = 7.0\n",
    "a = 5.0\n",
    "b = math.sqrt(c**2 - a**2)\n",
    "b_rounded = round(b, 1)\n",
    "\n",
    "print(f\"The other cathetus is: {b_rounded}\")"
   ]
  },
  {
   "cell_type": "markdown",
   "metadata": {},
   "source": [
    "-----\n",
    "## 2. Classification accuracy (*)\n",
    "\n",
    "A machine learning algorithm has been trained to predict whether or not it would rain the next day. Out of 365 predictions, it got 300 correct, compute the accuracy of this model.\n",
    "\n",
    "accuracy = correct_predictions / total_prediction\n",
    "\n",
    "accuracy_percentage = accuracy * 100"
   ]
  },
  {
   "cell_type": "code",
   "execution_count": 1,
   "metadata": {},
   "outputs": [
    {
     "name": "stdout",
     "output_type": "stream",
     "text": [
      "Accuracy: 82.1917808219178 %\n"
     ]
    }
   ],
   "source": [
    "correct_predictions = 300\n",
    "total_prediction = 365\n",
    "\n",
    "accuracy = correct_predictions / total_prediction\n",
    "\n",
    "accuracy_percentage = accuracy * 100\n",
    "\n",
    "print(\"Accuracy:\" ,accuracy_percentage, \"%\")"
   ]
  },
  {
   "cell_type": "markdown",
   "metadata": {},
   "source": [
    "---\n",
    "## 3. Classification accuracy (*)\n",
    "A machine learning model has been trained to detect fire. Here is the result of its predictions: \n",
    "\n",
    "<table align=\"left\">\n",
    "<tbody>\n",
    "  <tr>\n",
    "    <td>True Positive (TP)\n",
    "      <ul>\n",
    "        <li>Reality: fire</li>\n",
    "        <li>Predicted: fire</li>\n",
    "        <li>Number of TP: 2</li>\n",
    "      </ul>\n",
    "    </td>\n",
    "    <td>False Positive (FP)\n",
    "      <ul>\n",
    "        <li>Reality: no fire</li>\n",
    "        <li>Predicted: fire</li>\n",
    "        <li>Number of FP: 2</li>\n",
    "      </ul>\n",
    "    </td>\n",
    "  </tr>\n",
    "\n",
    "  <tr>\n",
    "    <td>False Negative (FN)\n",
    "      <ul>\n",
    "        <li>Reality: fire</li>\n",
    "        <li>Predicted: no fire</li>\n",
    "        <li>Number of FN: 11</li>\n",
    "      </ul>\n",
    "    </td>\n",
    "    <td>True Negative (TN)\n",
    "      <ul>\n",
    "        <li>Reality: no fire</li>\n",
    "        <li>Predicted: no fire</li>\n",
    "        <li>Number of TN: 985</li>\n",
    "      </ul>\n",
    "    </td>\n",
    "  </tr>\n",
    "</tbody>\n",
    "</table>"
   ]
  },
  {
   "cell_type": "markdown",
   "metadata": {},
   "source": [
    "Calculated the accuracy using the following formula:\n",
    "\n",
    "$\\text{accuracy} = \\frac{TP+TN}{TP+TN+FP+FN}$\n",
    "\n",
    "Is this a good model?\n",
    "\n",
    "<details> \n",
    "\n",
    "<summary>Hint </summary>\n",
    "\n",
    "Try to understand what it means for the actual user with each category\n",
    "\n",
    "</details>\n",
    "<br>\n",
    "<details> \n",
    "\n",
    "<summary>Answer </summary>\n",
    "\n",
    "```\n",
    "The accuracy of this model is 0.987.\n",
    "```\n",
    "\n",
    "</details>"
   ]
  },
  {
   "cell_type": "code",
   "execution_count": 5,
   "metadata": {},
   "outputs": [
    {
     "name": "stdout",
     "output_type": "stream",
     "text": [
      "Classification Accuracy: 0.987\n"
     ]
    }
   ],
   "source": [
    "\n",
    "TP = 2\n",
    "FP = 2\n",
    "FN = 11\n",
    "TN = 985\n",
    "\n",
    "accuracy = (TP + TN) / (TP + TN + FP + FN) \n",
    "print(f\"Classification Accuracy: {accuracy:.3f}\")\n",
    "\n",
    "#Is this a good model. Yes I think it is,by multiply with 100 we get 97.85% which should \n",
    "#be considered as a good model\"\"\""
   ]
  },
  {
   "cell_type": "markdown",
   "metadata": {},
   "source": [
    "--- \n",
    "## 4. Line (*)\n",
    "Compute the slope $k$ and the constant term $m$ of this line using the points $A: (4,4)$ and $B: (0,1)$.  \n",
    "\n",
    "<img align=\"left\" src=\"../Assets/line.png\" width=\"200\"/>"
   ]
  },
  {
   "cell_type": "markdown",
   "metadata": {},
   "source": [
    "<details> \n",
    "\n",
    "<summary>Hint </summary>\n",
    "\n",
    "$k = \\frac{\\Delta y}{\\Delta x} = \\frac{y_2 - y_1}{x_2 - x_1}$\n",
    "\n",
    "Either plug in one point into $y = kx + m$ and solve for $m$ or read the intersection with y-axis in the graph.\n",
    "\n",
    "[Video lecture][video_line] (Swedish)\n",
    "\n",
    "[video_line]: https://www.youtube.com/watch?v=9Buuq6rkaJ0\n",
    "\n",
    "</details>\n",
    "<br>\n",
    "<details> \n",
    "\n",
    "<summary>Solution </summary>\n",
    "\n",
    "```\n",
    "k = 0.75, m = 1, so the equation for the slope is y = 0.75x + 1\n",
    "```\n",
    "\n",
    "</details>\n"
   ]
  },
  {
   "cell_type": "code",
   "execution_count": 7,
   "metadata": {},
   "outputs": [
    {
     "name": "stdout",
     "output_type": "stream",
     "text": [
      "The equation of the line:0.75x + 1.0\n"
     ]
    }
   ],
   "source": [
    "x1, y1 = 4, 4\n",
    "x2, y2 = 0, 1\n",
    "\n",
    "k = (y1 - y2) / (x1 - x2)\n",
    "m = y1 - k * x1\n",
    "\n",
    "print(f\"The equation of the line:{k}x + {m}\")\n"
   ]
  },
  {
   "cell_type": "markdown",
   "metadata": {},
   "source": [
    "---\n",
    "## 5. Euclidean distance (*)\n",
    "\n",
    "The Euclideam distance between the points $P_1$ and $P_2$ is the length of a line between them. Let $P_1: (3,5)$ and $P_2: (-2,4)$ and compute the distance between them."
   ]
  },
  {
   "cell_type": "markdown",
   "metadata": {},
   "source": [
    "<details> \n",
    "\n",
    "The formula is: \n",
    "\n",
    "$\\text{distance} = \\sqrt{(x_2-x_1)^2 +(y_2-y_1)^2}$\n",
    "\n",
    "\n",
    "\n",
    "<summary>Answer </summary>\n",
    "\n",
    "```\n",
    "The distance is around 5.1 length units.\n",
    "```\n",
    "\n",
    "</details>"
   ]
  },
  {
   "cell_type": "code",
   "execution_count": 8,
   "metadata": {},
   "outputs": [
    {
     "name": "stdout",
     "output_type": "stream",
     "text": [
      "The Euclidean distance between P1 and P2 is: 5.10\n"
     ]
    }
   ],
   "source": [
    "import math\n",
    "\n",
    "# Given points\n",
    "x1, y1 = 3, 5\n",
    "x2, y2 = -2, 4\n",
    "\n",
    "# Calculate the Euclidean distance\n",
    "distance = math.sqrt((x2 - x1)**2 + (y2 - y1)**2)\n",
    "\n",
    "# Print the result\n",
    "print(f\"The Euclidean distance between P1 and P2 is: {distance:.2f}\")"
   ]
  },
  {
   "cell_type": "markdown",
   "metadata": {},
   "source": [
    "---\n",
    "## 6. Euclidean distance in 3D (**)\n",
    "\n",
    "Calculate the distance between the points $P_1: (2,1,4)$ and $P_2: (3,1,0)$ \n",
    "\n",
    "<details> \n",
    "\n",
    "<summary>Hint </summary>\n",
    "\n",
    "Let $p =(p_1, p_2, p_3)$ and $q = (q_1, q_2, q_3) \\Rightarrow$   \n",
    "\n",
    "$d(p,q) = \\sqrt{(p_1-q_1)^2 +(p_2-q_2)^2 +(p_3-q_3)^2 }$, where $d(p,q)$ is the Euclidean distance between $p$ and $q$\n",
    "\n",
    "</details>\n",
    "<br>\n",
    "<details> \n",
    "\n",
    "<summary>Answer </summary>\n",
    "\n",
    "```\n",
    "The distance is around 4.12 l.u.\n",
    "```\n",
    "\n",
    "</details>"
   ]
  },
  {
   "cell_type": "code",
   "execution_count": 9,
   "metadata": {},
   "outputs": [
    {
     "name": "stdout",
     "output_type": "stream",
     "text": [
      "The Euclidean distance between P1 and P2 is: 4.12\n"
     ]
    }
   ],
   "source": [
    "import math\n",
    "\n",
    "p1 = (2, 1, 4)\n",
    "p2 = (3, 1, 0)\n",
    "\n",
    "distance = math.sqrt((p1[0] - p2[0])**2 + (p1[1] - p2[1])**2 + (p1[2] - p2[2])**2)\n",
    "\n",
    "# Print the result\n",
    "print(f\"The Euclidean distance between P1 and P2 is: {distance:.2f}\")"
   ]
  }
 ],
 "metadata": {
  "kernelspec": {
   "display_name": "Python 3.9.6 64-bit",
   "language": "python",
   "name": "python3"
  },
  "language_info": {
   "codemirror_mode": {
    "name": "ipython",
    "version": 3
   },
   "file_extension": ".py",
   "mimetype": "text/x-python",
   "name": "python",
   "nbconvert_exporter": "python",
   "pygments_lexer": "ipython3",
   "version": "3.11.5"
  },
  "orig_nbformat": 4,
  "vscode": {
   "interpreter": {
    "hash": "0da836a34428266995a795f1e1e27b816fa1c02f148d9728b3fbbbc5459afca6"
   }
  }
 },
 "nbformat": 4,
 "nbformat_minor": 2
}
