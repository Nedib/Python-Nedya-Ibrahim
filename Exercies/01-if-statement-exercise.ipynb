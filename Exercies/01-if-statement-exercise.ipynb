{
 "cells": [
  {
   "cell_type": "markdown",
   "metadata": {},
   "source": [
    "\n",
    "<a href=\"https://colab.research.google.com/github/kokchun/Python-course-AI22/blob/main/Exercises/01-if-statement-exercise.ipynb\" target=\"_parent\"><img align=\"left\" src=\"https://colab.research.google.com/assets/colab-badge.svg\" alt=\"Open In Colab\"/></a> &nbsp; to see hints and answers."
   ]
  },
  {
   "cell_type": "markdown",
   "metadata": {},
   "source": [
    "# if statements exercises\n",
    "\n",
    "---\n",
    "These are introductory exercises in Python with focus in **if** statement.\n",
    "\n",
    "<p class = \"alert alert-info\" role=\"alert\"><b>Remember</b> to use <b>descriptive variable names</b> in order to get readable code </p>\n",
    "\n",
    "<p class = \"alert alert-info\" role=\"alert\"><b>Remember</b> to format your answers in a neat way using <b>f-strings</b>\n",
    "\n",
    "<p class = \"alert alert-info\" role=\"alert\"><b>Remember</b> to format your input questions in a pedagogical way to guide the user\n",
    "\n",
    "The number of stars (\\*), (\\*\\*), (\\*\\*\\*) denotes the difficulty level of the task\n",
    "\n",
    "---"
   ]
  },
  {
   "cell_type": "markdown",
   "metadata": {},
   "source": [
    "## 1. Check sign (*)\n",
    "\n",
    "Ask the user to input a number and check if this number is **positive**, **negative** or **zero** and print it out."
   ]
  },
  {
   "cell_type": "code",
   "execution_count": 6,
   "metadata": {},
   "outputs": [
    {
     "name": "stdout",
     "output_type": "stream",
     "text": [
      "3 is positive\n",
      "3 is positive\n"
     ]
    }
   ],
   "source": [
    "i = int(input(\"Enter your number\"))\n",
    "\n",
    "if i > 0:\n",
    "    print(f\"{i} is positive\")\n",
    "elif i < 0:\n",
    "    print(f\"{i} is negative\")\n",
    "else:\n",
    "    print(\"zero\")\n",
    "\n",
    "\"\"\"\"\"\"\n",
    "\n",
    "i = input(\"Enter your number\")\n",
    "x = int(i)\n",
    "\n",
    "if x > 0:\n",
    "    print(f\"{x} is positive\")\n",
    "elif x < 0:\n",
    "    print(f\"{x} is negative\")\n",
    "else:\n",
    "    print(f\"{x} is zero\")"
   ]
  },
  {
   "cell_type": "markdown",
   "metadata": {},
   "source": [
    "---\n",
    "## 2. Smallest (*)\n",
    "Ask the user to input two numbers and check which one is the smallest and print it out.   "
   ]
  },
  {
   "cell_type": "code",
   "execution_count": 8,
   "metadata": {},
   "outputs": [
    {
     "name": "stdout",
     "output_type": "stream",
     "text": [
      "The smallest number is: 3.0\n"
     ]
    }
   ],
   "source": [
    "i1 = float(input(\"Enter the first number: \"))\n",
    "i2 = float(input(\"Enter the second number: \"))\n",
    "\n",
    "if i1 < i2:\n",
    "    smallest = i1\n",
    "elif i2 < i1:\n",
    "    smallest = i2\n",
    "else:\n",
    "    smallest = i1\n",
    "\n",
    "print(f\"The smallest number is: {smallest}\")\n"
   ]
  },
  {
   "cell_type": "markdown",
   "metadata": {},
   "source": [
    "---\n",
    "## 3. Right angle (*)\n",
    "\n",
    "Ask the user to input three angles and check if the triangle has a right angle. Your code should make sure that all three angles are valid and make up a triangle.\n",
    "\n",
    "<img align=\"left\" src=\"../Assets/triangle_angles.png\" width=\"200\"/>"
   ]
  },
  {
   "cell_type": "code",
   "execution_count": 45,
   "metadata": {},
   "outputs": [
    {
     "name": "stdout",
     "output_type": "stream",
     "text": [
      "It is not a right-angled triangle.\n"
     ]
    }
   ],
   "source": [
    "angel1 = float(input(\"Enter the first angel: \"))\n",
    "angel2 = float(input(\"Enter the first angel: \"))\n",
    "angel3 = float(input(\"Enter the first angel: \"))\n",
    "\n",
    "if angel1 + angel2 + angel3 == 180:\n",
    "    if angel1 == 90 or angel2 == 90 or angel3 == 90:\n",
    "        print(\"Its a right-angled trianle.\")\n",
    "    else:\n",
    "        print(\"Its not a right-angled triangle.\")\n",
    "else:\n",
    "    print(\"These angles do not form a valid triangle\")   \n"
   ]
  },
  {
   "cell_type": "markdown",
   "metadata": {},
   "source": [
    "----\n",
    "## 4. Medicine (*)\n",
    "\n",
    "The information in the following table is stated in a medicine package. Also it is stated that for children weight is more important than age.\n",
    "\n",
    "<table align=\"left\">\n",
    "<thead>\n",
    "    <tr>\n",
    "        <th></th>\n",
    "        <th>Age</th>\n",
    "        <th>Number of pills</th>\n",
    "    </tr>\n",
    "</thead>\n",
    "\n",
    "<tbody>\n",
    "  <tr>\n",
    "    <td>Adults & adolescent <br>over 40 kg</td>\n",
    "    <td>over 12 years</td>\n",
    "    <td>1-2</td>\n",
    "  </tr>\n",
    "\n",
    "  <tr>\n",
    "    <td>Children 26-40 kg</td>\n",
    "    <td>7-12 years</td>\n",
    "    <td>1/2-1</td>\n",
    "  </tr>\n",
    "\n",
    "  <tr>\n",
    "    <td>Children 15-25 kg</td>\n",
    "    <td>3-7 years</td>\n",
    "    <td>1/2</td>\n",
    "  </tr>\n",
    "</tbody>\n",
    "</table>"
   ]
  },
  {
   "cell_type": "markdown",
   "metadata": {},
   "source": [
    "Let the user input an **age** and a **weight**, the program should recommend the number of pills for the user."
   ]
  },
  {
   "cell_type": "code",
   "execution_count": 10,
   "metadata": {},
   "outputs": [
    {
     "name": "stdout",
     "output_type": "stream",
     "text": [
      "Sorry, the age and weight combination does not match the provided information.\n"
     ]
    }
   ],
   "source": [
    "age = int(input(\"Enter age (in years): \"))\n",
    "weight = float(input(\"Enter weight(in kg): \"))\n",
    "\n",
    "recommended_pills = None\n",
    "\n",
    "if weight > 40:\n",
    "    if age > 12:\n",
    "        recommended_pills = \"1-2\"\n",
    "elif 26 <= weight <= 40:\n",
    "    if 7 <= age <= 12:\n",
    "        recommended_pills = \"1/2-1\"\n",
    "elif 15 <= weight <= 25:\n",
    "    if 3 <= age <= 7:\n",
    "        recommended_pills = \"1/2\"        \n",
    "if recommended_pills is not None:\n",
    "    print(f\"Recommended number of pills: {recommended_pills}\")\n",
    "else:\n",
    "    print(\"Sorry, the age and weight combination does not match the provided information.\")     "
   ]
  },
  {
   "cell_type": "markdown",
   "metadata": {},
   "source": [
    "---\n",
    "## 5. Divisible (*)\n",
    "Let the user input a number. Check if the number is\n",
    "<ol type=\"a\">\n",
    "  <li>even or odd</li>\n",
    "  <li>is divisible by 5</li>\n",
    "  <li>is divisble by 5 and odd</li>\n",
    "</ol> "
   ]
  },
  {
   "cell_type": "code",
   "execution_count": 54,
   "metadata": {},
   "outputs": [
    {
     "name": "stdout",
     "output_type": "stream",
     "text": [
      "45 is divisible by 5.\n"
     ]
    }
   ],
   "source": [
    "number = int(input(\"Enter a number: \"))\n",
    "if number % 2 == 0:\n",
    "    print(f\"{number} is even.\")\n",
    "elif number % 5 == 0:\n",
    "    print(f\"{number} is divisble by 5.\")\n",
    "elif number % 5 == 0 and number % 2 != 0:\n",
    "    print(f\"{number} is divisible by 5 and odd\")\n",
    "else:\n",
    "    print(f\"{number} is neither even nor divisible by 5\") "
   ]
  },
  {
   "cell_type": "markdown",
   "metadata": {},
   "source": [
    "---\n",
    "## 6. Luggage size (*)\n",
    "\n",
    "The maximum allowed luggage size for boarding an airplane is: \n",
    "- weight: 8kg\n",
    "- dimensions: 55x40x23cm (length x width x height) \n",
    "\n",
    "Let the user input weight, length, width and height of the luggage. The program should check if the luggage is allowed or not."
   ]
  },
  {
   "cell_type": "code",
   "execution_count": 11,
   "metadata": {},
   "outputs": [
    {
     "name": "stdout",
     "output_type": "stream",
     "text": [
      "Your luggage is allowed for boarding.\n"
     ]
    }
   ],
   "source": [
    "Max_luggage_weight_kg = 8\n",
    "Max_luggage_dimensions_cm = (55, 40,23)\n",
    "\n",
    "weight_kg = float(input(\"Enter the weight of your luggage (in kilograms): \"))\n",
    "length_cm = float(input(\"Enter the length of your luggage(in centimeters): \"))\n",
    "width_cm = float(input(\"Enter the width of your luggage (in centimeters): \"))\n",
    "height_cm = float(input(\"Enter the height of your luggage (in centimeters): \"))\n",
    "\n",
    "if  (\n",
    "   \n",
    "    weight_kg <= Max_luggage_weight_kg\n",
    "    and length_cm <= Max_luggage_dimensions_cm [0]\n",
    "    and width_cm <= Max_luggage_dimensions_cm [1]\n",
    "    and height_cm <= Max_luggage_dimensions_cm [2]\n",
    "):\n",
    "    \n",
    "    print(\"Your luggage is allowed for boarding.\")\n",
    "else:\n",
    "    print(\"Sorry, your luggage is not allowed for boarding due to size or weight restrictions\")"
   ]
  }
 ],
 "metadata": {
  "kernelspec": {
   "display_name": "Python 3.9.6 64-bit",
   "language": "python",
   "name": "python3"
  },
  "language_info": {
   "codemirror_mode": {
    "name": "ipython",
    "version": 3
   },
   "file_extension": ".py",
   "mimetype": "text/x-python",
   "name": "python",
   "nbconvert_exporter": "python",
   "pygments_lexer": "ipython3",
   "version": "3.11.5"
  },
  "orig_nbformat": 4,
  "vscode": {
   "interpreter": {
    "hash": "0da836a34428266995a795f1e1e27b816fa1c02f148d9728b3fbbbc5459afca6"
   }
  }
 },
 "nbformat": 4,
 "nbformat_minor": 2
}
