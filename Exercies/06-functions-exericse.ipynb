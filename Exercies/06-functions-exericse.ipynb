{
 "cells": [
  {
   "cell_type": "markdown",
   "metadata": {},
   "source": [
    "# functions exercises\n",
    "\n"
   ]
  },
  {
   "cell_type": "markdown",
   "metadata": {},
   "source": [
    "## 1. Area (*)\n",
    "\n",
    "Create a function that takes the base and height of a triangle as input parameters and returns the area of the triangle."
   ]
  },
  {
   "cell_type": "code",
   "execution_count": 1,
   "metadata": {},
   "outputs": [
    {
     "name": "stdout",
     "output_type": "stream",
     "text": [
      "The area of the triangle with base 66 and height 7878 is 259974\n"
     ]
    }
   ],
   "source": [
    "def triangle_area(base, height):\n",
    "    area = 0.5 * base * height\n",
    "    return area\n",
    "\n",
    "# Get the hight and the base from the user.\n",
    "base = float(input(\"Enter the base of the triangel: \"))  \n",
    "height = float(input(\"Enter the height of the triangel\"))\n",
    "\n",
    "area = triangle_area(base, height)\n",
    "print(f\"The area of the triangle with base {base:.0f} and height {height:.0f} is {area:.0f}\")"
   ]
  },
  {
   "cell_type": "markdown",
   "metadata": {},
   "source": [
    "---\n",
    "\n",
    "## 2. Euclidean distance (*)\n",
    "\n",
    "The formula for Euclidean distance in 2D between $P: (p_1, p_2)$ and $Q: (q_1, q_2)$  is: \n",
    "\n",
    "$d(P,Q) = \\sqrt{(p_1-q_1)^2 + (p_2-q_2)^2}$\n",
    "\n",
    "&nbsp; a) &nbsp; Create a function that takes two points as input parameters and return the Euclidean between them. (*)\n",
    "\n",
    "&nbsp; b) &nbsp; Let the user input two points. Call the function using the users input points. (*)\n",
    "\n",
    "&nbsp; c) &nbsp; Use your function to calculate distances between the origin (0, 0) and each of these points: (10, 3), (-1, -9), (10, -10), (4, -2), (9, -10). (*)\n",
    "\n",
    "<details>\n",
    "\n",
    "<summary>Hint</summary>\n",
    "\n",
    "Use a **for** statement\n",
    "\n",
    "</details>\n",
    "<br>\n",
    "<details>\n",
    "\n",
    "<summary>Answer</summary>\n",
    "\n",
    "c)\n",
    "\n",
    "```\n",
    "[10.4, 9.1, 14.1, 4.5, 13.5]\n",
    "```\n",
    "\n",
    "</details>\n"
   ]
  },
  {
   "cell_type": "code",
   "execution_count": 3,
   "metadata": {},
   "outputs": [
    {
     "ename": "IndexError",
     "evalue": "list index out of range",
     "output_type": "error",
     "traceback": [
      "\u001b[1;31m---------------------------------------------------------------------------\u001b[0m",
      "\u001b[1;31mIndexError\u001b[0m                                Traceback (most recent call last)",
      "\u001b[1;32mc:\\Users\\NedyaIbrahim-AI23GBG\\Documents\\Github\\Python-Nedya-Ibrahim\\Exercies\\06-functions-exericse.ipynb Cell 5\u001b[0m line \u001b[0;36m1\n\u001b[0;32m     <a href='vscode-notebook-cell:/c%3A/Users/NedyaIbrahim-AI23GBG/Documents/Github/Python-Nedya-Ibrahim/Exercies/06-functions-exericse.ipynb#X13sZmlsZQ%3D%3D?line=9'>10</a>\u001b[0m user_input1 \u001b[39m=\u001b[39m \u001b[39minput\u001b[39m(\u001b[39m\"\u001b[39m\u001b[39mEnter the first point (x1 y1): \u001b[39m\u001b[39m\"\u001b[39m)\u001b[39m.\u001b[39msplit()\n\u001b[0;32m     <a href='vscode-notebook-cell:/c%3A/Users/NedyaIbrahim-AI23GBG/Documents/Github/Python-Nedya-Ibrahim/Exercies/06-functions-exericse.ipynb#X13sZmlsZQ%3D%3D?line=10'>11</a>\u001b[0m user_input2 \u001b[39m=\u001b[39m \u001b[39minput\u001b[39m(\u001b[39m\"\u001b[39m\u001b[39mEnter the second point (x2 y2): \u001b[39m\u001b[39m\"\u001b[39m)\u001b[39m.\u001b[39msplit()\n\u001b[1;32m---> <a href='vscode-notebook-cell:/c%3A/Users/NedyaIbrahim-AI23GBG/Documents/Github/Python-Nedya-Ibrahim/Exercies/06-functions-exericse.ipynb#X13sZmlsZQ%3D%3D?line=11'>12</a>\u001b[0m point1 \u001b[39m=\u001b[39m (\u001b[39mfloat\u001b[39m(user_input1[\u001b[39m0\u001b[39m]), \u001b[39mfloat\u001b[39m(user_input1[\u001b[39m1\u001b[39;49m]))\n\u001b[0;32m     <a href='vscode-notebook-cell:/c%3A/Users/NedyaIbrahim-AI23GBG/Documents/Github/Python-Nedya-Ibrahim/Exercies/06-functions-exericse.ipynb#X13sZmlsZQ%3D%3D?line=12'>13</a>\u001b[0m point2 \u001b[39m=\u001b[39m (\u001b[39mfloat\u001b[39m(user_input2[\u001b[39m0\u001b[39m]), \u001b[39mfloat\u001b[39m(user_input2[\u001b[39m1\u001b[39m]))\n\u001b[0;32m     <a href='vscode-notebook-cell:/c%3A/Users/NedyaIbrahim-AI23GBG/Documents/Github/Python-Nedya-Ibrahim/Exercies/06-functions-exericse.ipynb#X13sZmlsZQ%3D%3D?line=14'>15</a>\u001b[0m \u001b[39m# Calculate and print the distance between the two points\u001b[39;00m\n",
      "\u001b[1;31mIndexError\u001b[0m: list index out of range"
     ]
    }
   ],
   "source": [
    "import math\n",
    "\n",
    "# Create a function to calculate Euclidean distance\n",
    "def euclidean_distance(point1, point2):\n",
    "    p1, p2 = point1\n",
    "    q1, q2 = point2\n",
    "    return math.sqrt((p1 - q1) ** 2 + (p2 - q2) ** 2)\n",
    "\n",
    "# Get user input for two points\n",
    "user_input1 = input(\"Enter the first point (x1 y1): \").split()\n",
    "user_input2 = input(\"Enter the second point (x2 y2): \").split()\n",
    "point1 = (float(user_input1[0]), float(user_input1[1]))\n",
    "point2 = (float(user_input2[0]), float(user_input2[1]))\n",
    "\n",
    "# Calculate and print the distance between the two points\n",
    "distance = euclidean_distance(point1, point2)\n",
    "print(f\"Euclidean distance between the two points: {distance:.1f}\")\n",
    "\n",
    "# Calculate distances from the origin to given points\n",
    "origin = (0, 0)\n",
    "points = [(10, 3), (-1, -9), (10, -10), (4, -2), (9, -10)]\n",
    "distances_from_origin = [euclidean_distance(origin, point) for point in points]\n",
    "\n",
    "# Print distances from the origin to the given points\n",
    "print(\"Distances from the origin to the given points:\")\n",
    "print(distances_from_origin)"
   ]
  },
  {
   "cell_type": "markdown",
   "metadata": {},
   "source": [
    "---\n",
    "## 3. Mathematical functions (*)\n",
    "\n",
    "Make the following functions with **def** or **lambda** and plot their graphs in the same figure window, with $x\\in [-10,10]$ :\n",
    "\n",
    "&nbsp; a) &nbsp;  $f(x) = x^2 -3$ (*)\n",
    "\n",
    "&nbsp; b) &nbsp; $g(x) = 4x-7$ (*)\n",
    "\n",
    "What could the relation between $f(x)$ and $g(x)$ be?\n",
    "\n",
    "<details>\n",
    "\n",
    "<summary>Hint</summary>\n",
    "Use numpy's linspace function:\n",
    "\n",
    "```python\n",
    "import numpy as np\n",
    "x = np.linspace(-10,10)\n",
    "```\n",
    "\n",
    "[Derivative video][derivative_video] (Swedish)\n",
    "\n",
    "[Derivative of polynomials][derivative_polynomial] (Swedish)\n",
    "\n",
    "[derivative_video]: https://www.youtube.com/watch?v=hzXJxOXkU_M\n",
    "[derivative_polynomial]: https://www.youtube.com/watch?v=dFnro1sBn1Y\n",
    "\n",
    "</details>\n",
    "<br>\n",
    "<details>\n",
    "\n",
    "<summary>Answer</summary>\n",
    "\n",
    "<img align=\"left\" src=\"../assets/functions_graph.png\" width=\"200\"/>\n",
    "\n",
    "</details>\n"
   ]
  },
  {
   "cell_type": "code",
   "execution_count": 1,
   "metadata": {},
   "outputs": [
    {
     "data": {
      "image/png": "[encoded data removed]",
      "text/plain": [
       "<Figure size 640x480 with 1 Axes>"
      ]
     },
     "metadata": {},
     "output_type": "display_data"
    }
   ],
   "source": [
    "import numpy as np\n",
    "import matplotlib.pyplot as plt\n",
    "\n",
    "# Generate x values from -10 to 10\n",
    "x = np.linspace(-10, 10)\n",
    "\n",
    "# Define the functions directly within the plot\n",
    "plt.plot(x, x**2 - 3, label='f(x) = x^2 - 3')\n",
    "plt.plot(x, 4*x - 7, label='g(x) = 4x - 7')\n",
    "\n",
    "# Add labels, legend, and title\n",
    "plt.xlabel('x')\n",
    "plt.ylabel('y')\n",
    "plt.legend()\n",
    "plt.title('Graphs of f(x) and g(x)')\n",
    "\n",
    "# Show the plot\n",
    "plt.grid(True)\n",
    "plt.show()"
   ]
  },
  {
   "cell_type": "markdown",
   "metadata": {},
   "source": [
    "---\n",
    "## 4. Name cleaner (*)\n",
    "\n",
    "Create a function that takes a name as an input and:\n",
    "\n",
    "- removes all leading and trailing blank spaces\n",
    "- make capitalize the first character of each name, and make the rest lowercase\n",
    "\n",
    "Use your function on this list of strings: \n",
    "\n",
    "```\n",
    "[\"  MaRcUs \", \" iDA aNderSon\", \"OLOF Olofsson            \"  ]\n",
    "```\n",
    "\n",
    "\n",
    "<details>\n",
    "\n",
    "<summary>Hint</summary>\n",
    "Use \n",
    "\n",
    "- [title() method][str_title]\n",
    "- [strip() method][str_strip]\n",
    "- [join() method][str_join]\n",
    "- [split() method][str_split]\n",
    "\n",
    "[str_title]: https://www.w3schools.com/python/ref_string_title.asp\n",
    "[str_strip]: https://www.w3schools.com/python/ref_string_strip.asp\n",
    "[str_join]: https://www.w3schools.com/python/ref_string_join.asp\n",
    "[str_split]: https://www.w3schools.com/python/ref_string_split.asp \n",
    "\n",
    "</details>\n",
    "<br>\n",
    "<details>\n",
    "\n",
    "<summary>Answer</summary>\n",
    "\n",
    "```\n",
    "Marcus\n",
    "Ida Anderson\n",
    "Olof Olofsson\n",
    "```\n",
    "\n",
    "</details>\n"
   ]
  },
  {
   "cell_type": "code",
   "execution_count": 21,
   "metadata": {},
   "outputs": [
    {
     "name": "stdout",
     "output_type": "stream",
     "text": [
      "Marcus\n",
      "Ida Anderson\n",
      "Olof Olofsson\n"
     ]
    }
   ],
   "source": [
    "def name_cleaner(name):\n",
    "    # Remove leading and trailing blank spaces and split the name into words\n",
    "    name = name.strip().split()\n",
    "\n",
    "    # Capitalize the first character of each word and make the rest lowercase\n",
    "    cleaned_name = [word.capitalize() for word in name]\n",
    "\n",
    "    # Join the cleaned words to form the final name\n",
    "    return ' '.join(cleaned_name)\n",
    "\n",
    "# List of names\n",
    "names = [\"  MaRcUs \", \" iDA aNderSon\", \"OLOF Olofsson\"]\n",
    "\n",
    "# Clean and format the names\n",
    "cleaned_names = [name_cleaner(name) for name in names]\n",
    "\n",
    "# Print the cleaned names\n",
    "for cleaned_name in cleaned_names:\n",
    "    print(cleaned_name)"
   ]
  },
  {
   "cell_type": "markdown",
   "metadata": {},
   "source": [
    "---\n",
    "## 5. Change (**)\n",
    "\n",
    "Create a function that takes a value as input parameter and print out the banknotes and coins in Swedish currency representing this value. For example 5289 would give the following printout: \n",
    "\n",
    "- 5st 1000-lapp\n",
    "- 1st 200-lapp\n",
    "- 1st 50-lapp\n",
    "- 1st 20-lapp\n",
    "- 1st 10-krona\n",
    "- 1st 5-krona\n",
    "- 2st 2-krona\n",
    "\n",
    "Now let the user input a value, and use the function to calculate the change."
   ]
  },
  {
   "cell_type": "code",
   "execution_count": 24,
   "metadata": {},
   "outputs": [
    {
     "name": "stdout",
     "output_type": "stream",
     "text": [
      "The banknotes and coins representing the value:\n",
      "- 2st 1000-lappar\n",
      "- 1st 200-lappar\n",
      "- 1st 20-lapp\n",
      "- 2st 1-krona\n"
     ]
    }
   ],
   "source": [
    "def calculate_swedish_currency(value):\n",
    "    currency_units = [\n",
    "        (1000, \"1000-lappar\"),\n",
    "        (500, \"500-lappar\"),\n",
    "        (200, \"200-lappar\"),\n",
    "        (100, \"100-lapp\"),\n",
    "        (50, \"50-lapp\"),\n",
    "        (20, \"20-lapp\"),\n",
    "        (10, \"10-krona\"),\n",
    "        (5, \"5-krona\"),\n",
    "        (1, \"1-krona\"),\n",
    "    ]\n",
    "\n",
    "    result = []\n",
    "\n",
    "    for unit, unit_name in currency_units:\n",
    "        count = value // unit\n",
    "        if count > 0:\n",
    "            result.append(f\"{int(count)}st {unit_name}\")\n",
    "            value %= unit\n",
    "\n",
    "    return result\n",
    "\n",
    "# Example usage:\n",
    "user_input = float(input(\"Enter a value in Swedish currency: \"))\n",
    "change = calculate_swedish_currency(user_input)\n",
    "\n",
    "print(\"The banknotes and coins representing the value:\")\n",
    "for item in change:\n",
    "    print(\"-\", item)"
   ]
  }
 ],
 "metadata": {
  "kernelspec": {
   "display_name": "Python 3.9.6 64-bit",
   "language": "python",
   "name": "python3"
  },
  "language_info": {
   "codemirror_mode": {
    "name": "ipython",
    "version": 3
   },
   "file_extension": ".py",
   "mimetype": "text/x-python",
   "name": "python",
   "nbconvert_exporter": "python",
   "pygments_lexer": "ipython3",
   "version": "3.11.5"
  },
  "orig_nbformat": 4,
  "vscode": {
   "interpreter": {
    "hash": "0da836a34428266995a795f1e1e27b816fa1c02f148d9728b3fbbbc5459afca6"
   }
  }
 },
 "nbformat": 4,
 "nbformat_minor": 2
}
