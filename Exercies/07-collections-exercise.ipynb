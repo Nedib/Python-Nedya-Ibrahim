{
 "cells": [
  {
   "cell_type": "markdown",
   "metadata": {},
   "source": [
    "# Collections exercises\n",
    "\n",
    "---\n",
    "These are introductory exercises in Python with focus on **Collections** (list, dictionary, set).\n",
    "\n",
    "<p class = \"alert alert-info\" role=\"alert\"><b>List</b> is a collection of items which are ordered and changeable. Allows duplicate members.</p>\n",
    "\n",
    "<p class = \"alert alert-info\" role=\"alert\"><b>Dictionary</b> is a collection of key-value-pairs which are ordered and changeable. No duplicate keys.</p>\n",
    "\n",
    "<p class = \"alert alert-info\" role=\"alert\"><b>Set</b> is a collection of items which is unordered, unchangeable*, and unindexed. No duplicate members.</p>\n",
    "\n",
    "The number of stars (\\*), (\\*\\*), (\\*\\*\\*) denotes the difficulty level of the task\n",
    "\n",
    "---"
   ]
  },
  {
   "cell_type": "markdown",
   "metadata": {},
   "source": [
    "## 1. Print inputed values in reverse (*)\n",
    "\n",
    "Create a loop that keeps asking for user input until the user inputs an empty string, then print all inputs in reverse order."
   ]
  },
  {
   "cell_type": "code",
   "execution_count": 4,
   "metadata": {},
   "outputs": [
    {
     "name": "stdout",
     "output_type": "stream",
     "text": [
      "['Hej', 'hej', 'hejdå']\n"
     ]
    }
   ],
   "source": [
    "user_inputs = []\n",
    "\n",
    "while True:\n",
    "    user_input = input(\"Enter a string (or press Enter to finish): \")\n",
    "\n",
    "    if not user_input.strip():\n",
    "        break\n",
    "\n",
    "    user_inputs.append(user_input)\n",
    "\n",
    "print(user_inputs)\n"
   ]
  },
  {
   "cell_type": "markdown",
   "metadata": {},
   "source": [
    "---\n",
    "\n",
    "## 2. Print a given number using words. (*)\n",
    "\n",
    "Create a dictionary with 10 key-value pairs: {\"0\": \"Zero\", \"1\": \"One\", ..., \"9\": \"Nine\"}\n",
    "\n",
    "Make the program ask the user to input a number, then print the word for each number in sequence;\n",
    "\n",
    "<details>\n",
    "\n",
    "<summary>Example</summary>\n",
    "\n",
    "```\n",
    "Input: 34507\n",
    "Output: Three-Four-Five-Zero-Seven\n",
    "```\n",
    "\n",
    "</details>\n"
   ]
  },
  {
   "cell_type": "code",
   "execution_count": 6,
   "metadata": {},
   "outputs": [
    {
     "name": "stdout",
     "output_type": "stream",
     "text": [
      "The word for 2 is: Two\n"
     ]
    }
   ],
   "source": [
    "# Create the dictionary with number-word pairs\n",
    "number_words = {\n",
    "    \"0\": \"Zero\",\n",
    "    \"1\": \"One\",\n",
    "    \"2\": \"Two\",\n",
    "    \"3\": \"Three\",\n",
    "    \"4\": \"Four\",\n",
    "    \"5\": \"Five\",\n",
    "    \"6\": \"Six\",\n",
    "    \"7\": \"Seven\",\n",
    "    \"8\": \"Eight\",\n",
    "    \"9\": \"Nine\"\n",
    "}\n",
    "\n",
    "# Ask the user for input\n",
    "user_input = input(\"Enter a number (0-9): \")\n",
    "\n",
    "# Check if the input is a valid key in the dictionary\n",
    "if user_input in number_words:\n",
    "    # Print the corresponding word\n",
    "    print(\"The word for {} is: {}\".format(user_input, number_words[user_input]))\n",
    "else:\n",
    "    print(\"Invalid input. Please enter a number between 0 and 9.\")"
   ]
  },
  {
   "cell_type": "markdown",
   "metadata": {},
   "source": [
    "---\n",
    "## 3. Glossary training program (*)\n",
    "\n",
    "Create a glossary training program, where the user can test their skills on translating the names of english colors to swedish:\n",
    "\n",
    "- The program should ask the user to write a color in swedish (eg. \"Type the Swedish word for 'red': )\n",
    "\n",
    "- Then let the user know if it was correct (and if not, show them the correct translation)\n",
    "\n",
    "- Keep asking to translate random colors until the user inputs an blank answer (\"\")\n",
    "\n",
    "- Lastly let the user know how many of their translations where correct, how many they guess in total, and the ratio of correct answer (eg. \"You got 3 out of 5 correct answers. That is 60%\")\n"
   ]
  },
  {
   "cell_type": "code",
   "execution_count": 8,
   "metadata": {},
   "outputs": [
    {
     "name": "stdout",
     "output_type": "stream",
     "text": [
      "You didn't attempt any questions.\n"
     ]
    }
   ],
   "source": [
    "import random\n",
    "\n",
    "# Define a dictionary with English colors as keys and their Swedish translations as values\n",
    "color_translations = {\n",
    "    \"red\": \"röd\",\n",
    "    \"blue\": \"blå\",\n",
    "    \"green\": \"grön\",\n",
    "    \"yellow\": \"gul\",\n",
    "    \"orange\": \"orange\",\n",
    "    \"purple\": \"lila\",\n",
    "    \"pink\": \"rosa\",\n",
    "    \"brown\": \"brun\",\n",
    "    \"black\": \"svart\",\n",
    "    \"white\": \"vit\"\n",
    "}\n",
    "\n",
    "correct_answers = 0\n",
    "total_questions = 0\n",
    "\n",
    "while True:\n",
    "    # Select a random color from the dictionary\n",
    "    random_color = random.choice(list(color_translations.keys()))\n",
    "\n",
    "    # Ask the user to translate the color to Swedish\n",
    "    user_translation = input(f\"Type the Swedish word for '{random_color}' (or press Enter to finish): \")\n",
    "\n",
    "    if not user_translation:\n",
    "        break\n",
    "\n",
    "    total_questions += 1\n",
    "\n",
    "    # Check if the user's translation is correct\n",
    "    if user_translation.lower() == color_translations[random_color]:\n",
    "        correct_answers += 1\n",
    "        print(\"Correct!\\n\")\n",
    "    else:\n",
    "        print(f\"Wrong! The correct translation is '{color_translations[random_color]}'\\n\")\n",
    "\n",
    "if total_questions > 0:\n",
    "    accuracy = (correct_answers / total_questions) * 100\n",
    "    print(f\"You got {correct_answers} out of {total_questions} correct answers. That is {accuracy:.2f}%\")\n",
    "else:\n",
    "    print(\"You didn't attempt any questions.\")"
   ]
  },
  {
   "cell_type": "markdown",
   "metadata": {},
   "source": [
    "---\n",
    "## 4. Find common values between two inputs (*)\n",
    "\n",
    "Ask the user to input items on a comma-seperated list (1 input string)\n",
    "\n",
    "Then ask the user to input a new string of comma seperated items.\n",
    "\n",
    "Lastly, print all the items that appeared in both lists.\n",
    "\n",
    "<details>\n",
    "\n",
    "<summary>Example</summary>\n",
    "\n",
    "```\n",
    "Input A: green, red, yellow, purple, blue\n",
    "Input B: red, blue, black, white, brown\n",
    "Output: red, blue\n",
    "```\n",
    "\n",
    "</details>"
   ]
  },
  {
   "cell_type": "code",
   "execution_count": 9,
   "metadata": {},
   "outputs": [
    {
     "name": "stdout",
     "output_type": "stream",
     "text": [
      "hej\n"
     ]
    }
   ],
   "source": [
    "# Ask the user to input items as comma-separated strings and split them into lists\n",
    "input_a = input(\"Input A: \").split(', ')\n",
    "input_b = input(\"Input B: \").split(', ')\n",
    "\n",
    "# Find the common items by converting the lists to sets and using the intersection method\n",
    "common_items = set(input_a).intersection(input_b)\n",
    "\n",
    "# Convert the common items back to a list and sort it\n",
    "common_items_list = sorted(list(common_items))\n",
    "\n",
    "# Print the common items as a comma-separated string\n",
    "if common_items_list:\n",
    "    print(', '.join(common_items_list))\n",
    "else:\n",
    "    print(\"No common items found.\")"
   ]
  },
  {
   "cell_type": "markdown",
   "metadata": {},
   "source": [
    "---\n",
    "\n",
    "## 5. Print a given number using words (version 2). (**)\n",
    "\n",
    "Make the program ask the user to input any number from 0 to 99999.\n",
    "\n",
    "The program should then print out the full sequence of words for the number.\n",
    "\n",
    "<details>\n",
    "\n",
    "<summary>Example</summary>\n",
    "\n",
    "```\n",
    "Input: 34507\n",
    "Output: Thirtyfour thousand five hundred and seven\n",
    "```\n",
    "\n",
    "</details>\n"
   ]
  },
  {
   "cell_type": "code",
   "execution_count": 10,
   "metadata": {},
   "outputs": [
    {
     "name": "stdout",
     "output_type": "stream",
     "text": [
      "The number 89890 in words is: eighty nine thousand eight hundred ninety eight\n"
     ]
    }
   ],
   "source": [
    "# Define lists for words representing numbers\n",
    "units = [\"\", \"one\", \"two\", \"three\", \"four\", \"five\", \"six\", \"seven\", \"eight\", \"nine\"]\n",
    "teens = [\"\", \"eleven\", \"twelve\", \"thirteen\", \"fourteen\", \"fifteen\", \"sixteen\", \"seventeen\", \"eighteen\", \"nineteen\"]\n",
    "tens = [\"\", \"ten\", \"twenty\", \"thirty\", \"forty\", \"fifty\", \"sixty\", \"seventy\", \"eighty\", \"ninety\"]\n",
    "thousands = [\"\", \"thousand\", \"million\", \"billion\", \"trillion\"]\n",
    "\n",
    "# Function to convert a number to words\n",
    "def number_to_words(number):\n",
    "    if number == 0:\n",
    "        return \"zero\"\n",
    "\n",
    "    def recursive_convert(num, idx):\n",
    "        if num == 0:\n",
    "            return \"\"\n",
    "\n",
    "        if num < 10:\n",
    "            return units[num]\n",
    "\n",
    "        if num < 20:\n",
    "            return teens[num - 10]\n",
    "\n",
    "        if num < 100:\n",
    "            return tens[num // 10] + \" \" + units[num % 10]\n",
    "\n",
    "        return units[num // 100] + \" hundred \" + recursive_convert(num % 100, 0)\n",
    "\n",
    "    num_str = str(number)\n",
    "    num_len = len(num_str)\n",
    "    words = []\n",
    "\n",
    "    for i in range(num_len // 3 + (num_len % 3 != 0)):\n",
    "        chunk = int(num_str[-(i * 3 + 3):-(i * 3)] or num_str[:3])\n",
    "        if chunk:\n",
    "            words.append(recursive_convert(chunk, i))\n",
    "            if i > 0:\n",
    "                words[-1] += \" \" + thousands[i]\n",
    "\n",
    "    return \" \".join(reversed(words))\n",
    "\n",
    "# Ask the user to input a number from 0 to 99999\n",
    "while True:\n",
    "    try:\n",
    "        user_input = int(input(\"Enter a number from 0 to 99999: \"))\n",
    "        if 0 <= user_input <= 99999:\n",
    "            break\n",
    "        else:\n",
    "            print(\"Please enter a valid number within the specified range.\")\n",
    "    except ValueError:\n",
    "        print(\"Please enter a valid number.\")\n",
    "\n",
    "# Convert the user's input to words and print the result\n",
    "number_in_words = number_to_words(user_input)\n",
    "print(f\"The number {user_input} in words is: {number_in_words}\")"
   ]
  }
 ],
 "metadata": {
  "kernelspec": {
   "display_name": "Python 3.9.6 64-bit",
   "language": "python",
   "name": "python3"
  },
  "language_info": {
   "codemirror_mode": {
    "name": "ipython",
    "version": 3
   },
   "file_extension": ".py",
   "mimetype": "text/x-python",
   "name": "python",
   "nbconvert_exporter": "python",
   "pygments_lexer": "ipython3",
   "version": "3.11.5"
  },
  "orig_nbformat": 4,
  "vscode": {
   "interpreter": {
    "hash": "0da836a34428266995a795f1e1e27b816fa1c02f148d9728b3fbbbc5459afca6"
   }
  }
 },
 "nbformat": 4,
 "nbformat_minor": 2
}
