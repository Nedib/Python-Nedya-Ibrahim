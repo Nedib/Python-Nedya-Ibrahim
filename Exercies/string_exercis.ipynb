{
 "cells": [
  {
   "cell_type": "code",
   "execution_count": 27,
   "metadata": {},
   "outputs": [
    {
     "name": "stdout",
     "output_type": "stream",
     "text": [
      "Hello"
     ]
    }
   ],
   "source": [
    "#1\n",
    "\n",
    "str = \"Hello World\"\n",
    "\n",
    "for letter in str:\n",
    "    if letter == \" \":\n",
    "        break\n",
    "\"\"    print(letter, end=\"\")"
   ]
  },
  {
   "cell_type": "code",
   "execution_count": 36,
   "metadata": {},
   "outputs": [
    {
     "name": "stdout",
     "output_type": "stream",
     "text": [
      "Hej\n",
      "jag\n",
      "heter\n",
      "namn"
     ]
    }
   ],
   "source": [
    "str = \"This is some other text\"\n",
    "\n",
    "for word in str:\n",
    "    if word == \" \":\n",
    "        print()\n",
    "   \n",
    "    else:\n",
    "\n",
    "        print(word, end=\"\")"
   ]
  },
  {
   "cell_type": "code",
   "execution_count": 35,
   "metadata": {},
   "outputs": [
    {
     "name": "stdout",
     "output_type": "stream",
     "text": [
      "t"
     ]
    }
   ],
   "source": [
    "str = \"Hej jag heter namn\"\n",
    "\n",
    "if word in str:\n",
    "    if word == \" \":\n",
    "        print()\n",
    "\n",
    "    else:\n",
    "        \n",
    "        print(word, end=\"\")"
   ]
  },
  {
   "cell_type": "code",
   "execution_count": null,
   "metadata": {},
   "outputs": [],
   "source": [
    "str = \"Detta är uppgift 3\"\n",
    "\n",
    "for letter in str:\n",
    "    if letter in str"
   ]
  },
  {
   "cell_type": "markdown",
   "metadata": {},
   "source": [
    "**Extra övningsuppgifter med strängar**\n",
    "\n",
    "*Dessa uppgifter är i stigande svårighetsgrad, och ger bättre förståelse av uppgiften “Hitta tal”*\n",
    "\n",
    "- Utgå från strängen (skapa en variabel med) “Hello World!”, skriv ut hela strängen bokstav för bokstav, men avsluta när det kommer ett space. (Den ska alltså bara skriva “Hello”).\n",
    "\n",
    "- Utgå från strängen “This is just some other text”. Skriv ut strängen bokstav för bokstav, men när det kommer ett space, gör radbyte istället. (Du ska få ett ord på varje rad).\n",
    "\n",
    "\n",
    "Utgå från strängen “Detta är uppgift 3”. Skriv ut bokstav för bokstav. Men om index är en jämn siffra, skriv istället ut *\n",
    "\n",
    "\n",
    "Utgå från strängen “Hello world!”. Skriv ut bokstav för bokstav. Alla “o” ska vara grön färg, alla “l” ska vara röd färg. Övriga bokstäver är vita/grå.\n",
    "\n",
    "\n",
    "Utgå från strängen “Hello world”. Skriv ut bokstav för bokstav. Om två tecken på rad är samma så ska dessa vara grön färg. Övriga bokstäver är vita/grå.\n",
    "\n",
    "\n",
    "Utgå från strängen “How much wood would a woodchuck chuck if a woodchuck could chuck wood?”, samt den mindre strängen “oo”. Skriv ut den långa strängen bokstav för bokstav. Varje gång den mindre strängen förekommer (två “o” på raken) så ska dessa vara med grön färg. Övriga bokstäver är vita/grå.\n",
    "\n",
    "\n",
    "Samma som uppgift 79, men den mindre strängen är “chuck” istället för “oo”. D.v.s. alla gånger “chuck” förekommer i den längre strängen skrivs dessa med grön text.\n",
    "\n",
    "\n",
    "Samma som uppgift 79 igen, men denna gången kan användaren mata in den kortare strängen, alltså valfri text som ska sökas (färgas grön) i den längre texten.\n",
    "\n",
    "\n",
    "Utgå från strängen “Hello world!”. Gör ett program som skriver ut första bokstaven en gång på första raden. Andra bokstaven 2 gånger på andra raden. Tredje, 3 gånger på nästa rad osv. Alltså:\n",
    "H\n",
    "ee\n",
    "lll\n",
    "o.s.v....\n",
    "\n",
    "\n",
    "Utgå från strängen “How much wood would a woodchuck chuck if a woodchuck could chuck wood?”. Gör ett program som skriver ut första ordet en gång på första raden; andra ordet två gånger på nästa rad. Tredje ordet tre gånger på nästa. etc. alltså:\n",
    "How\n",
    "much much\n",
    "wood wood wood\n",
    "o.s.v.\n",
    "\n",
    "Utgå från strängen “How much wood would a woodchuck chuck if a woodchuck could chuck wood?”. Gör ett program som på första raden skriver ut första ordet. På nästa rad skriver ut de två första orden, sedan de tre första orden på nästa rad o.s.v till man kommit till raden som skriver ut hela meningen. Alltså:\n",
    "How\n",
    "How much\n",
    "How much wood\n",
    "o.s.v.\n",
    "\n",
    "\n",
    "Utgå från samma sträng igen, men denna gång ska programmet skriva ut hela strängen på varje rad. På första raden ska första ordet vara grön (övriga vita), på andra raden ska andra ordet vara grönt. På tredje raden ska tredje vara grön osv. Alltså:\n",
    "How much wood would a woodchuck chuck if a woodchuck could chuck wood?\n",
    "How much wood would a woodchuck chuck if a woodchuck could chuck wood?\n",
    "How much wood would a woodchuck chuck if a woodchuck could chuck wood?\n",
    "o.s.v.\n",
    "\n",
    "\n",
    "Utgå från strängen “abcdefghijklmnopqrstuvwxyz”. Hela strängen skrivs ut på varje rad. På första raden är de 5 första tecknen gröna. På nästa rad är “bcdef” grön, sedan “cedfg” osv.. alltså alltid 5 tecken, men de flyttas ett steg åt höger för varje rad, tills sista raden har “vwxyz” grönfärgad. Alltså:\n",
    "abcdefghijklmnopqrstuvwxyz\n",
    "abcdefghijklmnopqrstuvwxyz\n",
    "abcdefghijklmnopqrstuvwxyz\n",
    "o.s.v.\n",
    "\n",
    "\n",
    "Användaren matar in valfri sträng. Programmet skriver ut hela strängen bokstav för bokstav. Alla bokstäverna är gröna fram tills du stöter på ett tecken som är samma som första tecknet i strängen. Därefter skriver den ut resten av bokstäver med vit/grå färg. Några exempel på inmatningar:\n",
    "ajdfhvajhdfd\n",
    "hhfgijff\n",
    "fjpdpog\n",
    "\n",
    "\n",
    "Användaren matar in valfri sträng. Programmet skriver sedan ut en hela strängen flera gånger. På första raden börjar den skriva med grön färg på första bokstaven och fram tills den hittar samma bokstav igen. På andra raden börjar den skriva med grön färg på andra bokstaven och fram tills den hittar samma bokstav igen. På tredje raden börjar den skriva med grön text på tredje bokstaven och fram tills den hittar samma igen. Om man t.ex matar in “ajdfhvajhdfd” blir det då:\n",
    "ajdfhvajhdfd\n",
    "ajdfhvajhdfd\n",
    "ajdfhvajhdfd\n",
    "ajdfhvajhdfd\n",
    "o.s.v"
   ]
  }
 ],
 "metadata": {
  "kernelspec": {
   "display_name": "NedyaIbrahim-AI23GBG-WRK3xpSZ",
   "language": "python",
   "name": "python3"
  },
  "language_info": {
   "codemirror_mode": {
    "name": "ipython",
    "version": 3
   },
   "file_extension": ".py",
   "mimetype": "text/x-python",
   "name": "python",
   "nbconvert_exporter": "python",
   "pygments_lexer": "ipython3",
   "version": "3.11.5"
  },
  "orig_nbformat": 4
 },
 "nbformat": 4,
 "nbformat_minor": 2
}
