{
 "cells": [
  {
   "cell_type": "markdown",
   "metadata": {},
   "source": [
    "**Extra övningsuppgifter med strängar**\n",
    "\n",
    "*Dessa uppgifter är i stigande svårighetsgrad, och ger bättre förståelse av uppgiften “Hitta tal”*"
   ]
  },
  {
   "cell_type": "markdown",
   "metadata": {},
   "source": [
    "1  Utgå från strängen (skapa en variabel med) “Hello World!”, skriv ut hela strängen bokstav för bokstav, men avsluta när det kommer ett space. (Den ska alltså bara skriva “Hello”)"
   ]
  },
  {
   "cell_type": "code",
   "execution_count": 31,
   "metadata": {},
   "outputs": [
    {
     "name": "stdout",
     "output_type": "stream",
     "text": [
      "Hello"
     ]
    }
   ],
   "source": [
    "#1\n",
    "\n",
    "str = \"Hello World\"\n",
    "\n",
    "for letter in str:\n",
    "    if letter == \" \":\n",
    "        break\n",
    "    print(letter, end=\"\")"
   ]
  },
  {
   "cell_type": "code",
   "execution_count": 23,
   "metadata": {},
   "outputs": [
    {
     "name": "stdout",
     "output_type": "stream",
     "text": [
      "Hello"
     ]
    }
   ],
   "source": [
    "str = \"Hello World\"\n",
    "\n",
    "for letter in str:\n",
    "    if letter == \" \":\n",
    "        break\n",
    "    print (letter, end=\"\")\n",
    "\n",
    "\n",
    "    \"\"\"Hur skriver man ut world\"\"\""
   ]
  },
  {
   "cell_type": "markdown",
   "metadata": {},
   "source": [
    "2 Utgå från strängen “This is just some other text”. Skriv ut strängen bokstav för bokstav, men när det kommer ett space, gör radbyte istället. (Du ska få ett ord på varje rad)."
   ]
  },
  {
   "cell_type": "code",
   "execution_count": 24,
   "metadata": {},
   "outputs": [
    {
     "name": "stdout",
     "output_type": "stream",
     "text": [
      "This\n",
      "is\n",
      "some\n",
      "other\n",
      "text"
     ]
    }
   ],
   "source": [
    "#2\n",
    "\n",
    "str = \"This is some other text\"\n",
    "\n",
    "for word in str:\n",
    "    if word == \" \":\n",
    "        print()\n",
    "    else:\n",
    "        \n",
    "        print(word, end=\"\")\n",
    "\n",
    "\n",
    "       "
   ]
  },
  {
   "cell_type": "markdown",
   "metadata": {},
   "source": [
    "3 Utgå från strängen “Detta är uppgift 3”. Skriv ut bokstav för bokstav. Men om index är en jämn siffra, skriv istället ut *"
   ]
  },
  {
   "cell_type": "code",
   "execution_count": 30,
   "metadata": {},
   "outputs": [
    {
     "name": "stdout",
     "output_type": "stream",
     "text": [
      "Detta är uppgift 3"
     ]
    }
   ],
   "source": [
    "#3\n",
    "\n",
    "str = \"Detta är uppgift 3\"\n",
    "for tecken in str:\n",
    "    if tecken.isdigit() and int(tecken)% 2 ==0:\n",
    "        print(\"*\", end=\"\")\n",
    "    else:\n",
    "        print(tecken, end=\"\") "
   ]
  },
  {
   "cell_type": "markdown",
   "metadata": {},
   "source": [
    "4 Utgå från strängen “Hello world!”. Skriv ut bokstav för bokstav. Alla “o” ska vara grön färg, alla “l” ska vara röd färg. Övriga bokstäver är vita/grå."
   ]
  },
  {
   "cell_type": "code",
   "execution_count": 24,
   "metadata": {},
   "outputs": [
    {
     "name": "stdout",
     "output_type": "stream",
     "text": [
      "\u001b[37mH\u001b[37me\u001b[31ml\u001b[31ml\u001b[32mo\u001b[37m \u001b[37mw\u001b[32mo\u001b[37mr\u001b[31ml\u001b[37md\u001b[37m!\u001b[0m\n"
     ]
    }
   ],
   "source": [
    "#4\n",
    "str = \"Hello world!\"\n",
    "\n",
    "for letter in str:\n",
    "    if letter == \"o\":\n",
    "        print(\"\\033[32m\" + letter, end=\"\")  # Grön för \"o\"\n",
    "    elif letter == \"l\":\n",
    "        print(\"\\033[31m\" + letter, end=\"\")  # Röd för \"l\"\n",
    "    else:\n",
    "        print(\"\\033[37m\" + letter, end=\"\")  # Grå eller vit för andra bokstäver\n",
    "\n",
    "\n",
    "print(\"\\033[0m\")\n"
   ]
  },
  {
   "cell_type": "markdown",
   "metadata": {},
   "source": [
    "5 (BEHÖVER HJÄLP) Utgå från strängen “Hello world”. Skriv ut bokstav för bokstav. Om två tecken på rad är samma så ska dessa vara grön färg. Övriga bokstäver är vita/grå."
   ]
  },
  {
   "cell_type": "code",
   "execution_count": 45,
   "metadata": {},
   "outputs": [
    {
     "name": "stdout",
     "output_type": "stream",
     "text": [
      "\u001b[37mH\u001b[37me\u001b[37ml\u001b[32ml\n",
      "\u001b[37mo\u001b[37m \u001b[37mw\u001b[37mo\u001b[37mr\u001b[37ml\u001b[37md\u001b[0m\n"
     ]
    }
   ],
   "source": [
    "#5 FEL\n",
    "str = \"Hello world\"\n",
    "previous_letter = \"\"  # Variabel för att hålla reda på föregående bokstav\n",
    "\n",
    "for letter in str:\n",
    "    if letter == previous_letter:\n",
    "        print(\"\\033[32m\" + previous_letter)  # Grön om två bokstäver är samma\n",
    "    else:\n",
    "        print(\"\\033[37m\" + letter, end=\"\")  # Grå eller vit för andra bokstäver\n",
    "\n",
    "    previous_letter = letter  # Uppdatera föregående bokstav för nästa iteration\n",
    "\n",
    "# Återställ textfärgen till standardfärgen när loopen är klar\n",
    "print(\"\\033[0m\")\n"
   ]
  },
  {
   "cell_type": "code",
   "execution_count": 53,
   "metadata": {},
   "outputs": [
    {
     "name": "stdout",
     "output_type": "stream",
     "text": [
      "464.23880597014926\n"
     ]
    }
   ],
   "source": [
    "print(2**10 * 3**5 / (1+5 * 107))"
   ]
  },
  {
   "cell_type": "code",
   "execution_count": 43,
   "metadata": {},
   "outputs": [
    {
     "name": "stdout",
     "output_type": "stream",
     "text": [
      "\u001b[37mH\u001b[37me\u001b[37ml\u001b[32ml\u001b[37mo\u001b[37m \u001b[37mw\u001b[37mo\u001b[37mr\u001b[37ml\u001b[37md\u001b[0m\n"
     ]
    }
   ],
   "source": [
    "#5 FEL\n",
    "str = \"Hello world\"\n",
    "previous_letter = \"\"  # Variabel för att hålla reda på föregående bokstav\n",
    "\n",
    "for letter in str:\n",
    "    if letter == previous_letter:\n",
    "        print(\"\\033[32m\" + previous_letter, end=\"\")  # Grön om två bokstäver är samma\n",
    "    else:\n",
    "        print(\"\\033[37m\" + letter, end=\"\")  # Grå eller vit för andra bokstäver\n",
    "\n",
    "    previous_letter = letter  # Uppdatera föregående bokstav för nästa iteration\n",
    "\n",
    "# Återställ textfärgen till standardfärgen när loopen är klar\n",
    "print(\"\\033[0m\")"
   ]
  },
  {
   "cell_type": "markdown",
   "metadata": {},
   "source": [
    "6 Utgå från strängen “How much wood would a woodchuck chuck if a woodchuck could chuck wood?”, samt den mindre strängen “oo”. Skriv ut den långa strängen bokstav för bokstav. Varje gång den mindre strängen förekommer (två “o” på raken) så ska dessa vara med grön färg. Övriga bokstäver är vita/grå."
   ]
  },
  {
   "cell_type": "code",
   "execution_count": 191,
   "metadata": {},
   "outputs": [
    {
     "name": "stdout",
     "output_type": "stream",
     "text": [
      "\u001b[37mH\u001b[37mo\u001b[37mw\u001b[37m \u001b[37mm\u001b[37mu\u001b[37mc\u001b[37mh\u001b[37m \u001b[37mw\u001b[32moo\u001b[37md\u001b[37m \u001b[37mw\u001b[37mo\u001b[37mu\u001b[37ml\u001b[37md\u001b[37m \u001b[37ma\u001b[37m \u001b[37mw\u001b[32moo\u001b[37md\u001b[37mc\u001b[37mh\u001b[37mu\u001b[37mc\u001b[37mk\u001b[37m \u001b[37mc\u001b[37mh\u001b[37mu\u001b[37mc\u001b[37mk\u001b[37m \u001b[37mi\u001b[37mf\u001b[37m \u001b[37ma\u001b[37m \u001b[37mw\u001b[32moo\u001b[37md\u001b[37mc\u001b[37mh\u001b[37mu\u001b[37mc\u001b[37mk\u001b[37m \u001b[37mc\u001b[37mo\u001b[37mu\u001b[37ml\u001b[37md\u001b[37m \u001b[37mc\u001b[37mh\u001b[37mu\u001b[37mc\u001b[37mk\u001b[37m \u001b[37mw\u001b[32moo\u001b[37md\u001b[37m?\u001b[0m\n"
     ]
    }
   ],
   "source": [
    "#6\n",
    "long_strang = \"How much wood would a woodchuck chuck if a woodchuck could chuck wood?\"\n",
    "short_strang = \"oo\"\n",
    "index = 0\n",
    "\n",
    "while index < len(long_strang):\n",
    "    if long_strang[index:index + 2] == short_strang:\n",
    "        print(\"\\033[32m\" + short_strang, end=\"\")\n",
    "        index += 2\n",
    "    else:\n",
    "        print(\"\\033[37m\" + long_strang[index], end=\"\")\n",
    "        index += 1\n",
    "\n",
    "print(\"\\033[0m\")"
   ]
  },
  {
   "cell_type": "markdown",
   "metadata": {},
   "source": [
    "7 Samma som uppgift 79, men den mindre strängen är “chuck” istället för “oo”. D.v.s. alla gånger “chuck” förekommer i den längre strängen skrivs dessa med grön text."
   ]
  },
  {
   "cell_type": "code",
   "execution_count": 10,
   "metadata": {},
   "outputs": [
    {
     "name": "stdout",
     "output_type": "stream",
     "text": [
      "\u001b[37mH\u001b[37mo\u001b[37mw\u001b[37m \u001b[37mm\u001b[37mu\u001b[37mc\u001b[37mh\u001b[37m \u001b[37mw\u001b[37mo\u001b[37mo\u001b[37md\u001b[37m \u001b[37mw\u001b[37mo\u001b[37mu\u001b[37ml\u001b[37md\u001b[37m \u001b[37ma\u001b[37m \u001b[37mw\u001b[37mo\u001b[37mo\u001b[37md\u001b[32mchuck\u001b[37m \u001b[32mchuck\u001b[37m \u001b[37mi\u001b[37mf\u001b[37m \u001b[37ma\u001b[37m \u001b[37mw\u001b[37mo\u001b[37mo\u001b[37md\u001b[32mchuck\u001b[37m \u001b[37mc\u001b[37mo\u001b[37mu\u001b[37ml\u001b[37md\u001b[37m \u001b[32mchuck\u001b[37m \u001b[37mw\u001b[37mo\u001b[37mo\u001b[37md\u001b[37m?\u001b[0m\n"
     ]
    }
   ],
   "source": [
    "#7\n",
    "long_strang = \"How much wood would a woodchuck chuck if a woodchuck could chuck wood?\"\n",
    "short_strang = \"chuck\"\n",
    "index = 0\n",
    "\n",
    "while index < len(long_strang):\n",
    "    if long_strang[index:index + len(short_strang)] == short_strang:\n",
    "        print(\"\\033[32m\" + long_strang[index:index + len(short_strang)], end=\"\")  # Grön om det är \"chuck\"\n",
    "        index += len(short_strang)  # Hoppa över längden av kort sträng eftersom vi redan har skrivit ut \"chuck\"\n",
    "    else:\n",
    "        print(\"\\033[37m\" + long_strang[index], end=\"\")  # Grå eller vit för andra bokstäver\n",
    "        index += 1\n",
    "\n",
    "# Återställ textfärgen till standardfärgen när loopen är klar\n",
    "print(\"\\033[0m\")\n"
   ]
  },
  {
   "cell_type": "markdown",
   "metadata": {},
   "source": [
    "8 Samma som uppgift 79 igen, men denna gången kan användaren mata in den kortare strängen, alltså valfri text som ska sökas (färgas grön) i den längre texten.\n"
   ]
  },
  {
   "cell_type": "code",
   "execution_count": 35,
   "metadata": {},
   "outputs": [
    {
     "name": "stdout",
     "output_type": "stream",
     "text": [
      "\u001b[37mH\u001b[37mo\u001b[37mw\u001b[37m \u001b[37mm\u001b[37mu\u001b[37mc\u001b[37mh\u001b[37m \u001b[32mwood\u001b[37m \u001b[37mw\u001b[37mo\u001b[37mu\u001b[37ml\u001b[37md\u001b[37m \u001b[37ma\u001b[37m \u001b[32mwood\u001b[37mc\u001b[37mh\u001b[37mu\u001b[37mc\u001b[37mk\u001b[37m \u001b[37mc\u001b[37mh\u001b[37mu\u001b[37mc\u001b[37mk\u001b[37m \u001b[37mi\u001b[37mf\u001b[37m \u001b[37ma\u001b[37m \u001b[32mwood\u001b[37mc\u001b[37mh\u001b[37mu\u001b[37mc\u001b[37mk\u001b[37m \u001b[37mc\u001b[37mo\u001b[37mu\u001b[37ml\u001b[37md\u001b[37m \u001b[37mc\u001b[37mh\u001b[37mu\u001b[37mc\u001b[37mk\u001b[37m \u001b[32mwood\u001b[37m?\u001b[0m\n"
     ]
    }
   ],
   "source": [
    "#8\n",
    "long_strang = \"How much wood would a woodchuck chuck if a woodchuck could chuck wood?\"\n",
    "user_input = input(\"Enter a word within the sentence to mark your word: \")\n",
    "index = 0\n",
    "\n",
    "while index < len(long_strang):\n",
    "    if long_strang[index:index + len(user_input)] == user_input:\n",
    "        print(\"\\033[32m\" + long_strang[index:index + len(user_input)], end=\"\")  # Grön om det är \"chuck\"\n",
    "        index += len(user_input)  # Hoppa över längden av kort sträng eftersom vi redan har skrivit ut \"chuck\"\n",
    "    else:\n",
    "        print(\"\\033[37m\" + long_strang[index], end=\"\")  # Grå eller vit för andra bokstäver\n",
    "        index += 1\n",
    "\n",
    "# Återställ textfärgen till standardfärgen när loopen är klar\n",
    "print(\"\\033[0m\")\n"
   ]
  },
  {
   "cell_type": "markdown",
   "metadata": {},
   "source": [
    "9 Utgå från strängen “Hello world!”. Gör ett program som skriver ut första bokstaven en gång på första raden. Andra bokstaven 2 gånger på andra raden. Tredje, 3 gånger på nästa rad osv. Alltså:\n",
    "H\n",
    "ee\n",
    "lll\n",
    "o.s.v...."
   ]
  },
  {
   "cell_type": "code",
   "execution_count": 27,
   "metadata": {},
   "outputs": [
    {
     "name": "stdout",
     "output_type": "stream",
     "text": [
      "H\n",
      "ee\n",
      "lll\n",
      "llll\n",
      "ooooo\n",
      "      \n",
      "wwwwwww\n",
      "oooooooo\n",
      "rrrrrrrrr\n",
      "llllllllll\n",
      "ddddddddddd\n",
      "!!!!!!!!!!!!\n"
     ]
    }
   ],
   "source": [
    "# 9\n",
    "strang = \"Hello world!\"\n",
    "\n",
    "# Loopa igenom varje bokstav i strängen\n",
    "for i, letter in enumerate(strang):\n",
    "    # Skriv ut bokstaven upprepad 'i+1' gånger (i börjar från 0)\n",
    "    print(letter * (i + 1))"
   ]
  },
  {
   "cell_type": "markdown",
   "metadata": {},
   "source": [
    "10 Utgå från strängen “How much wood would a woodchuck chuck if a woodchuck could chuck wood?”. Gör ett program som skriver ut första ordet en gång på första raden; andra ordet två gånger på nästa rad. Tredje ordet tre gånger på nästa. etc. alltså:"
   ]
  },
  {
   "cell_type": "code",
   "execution_count": 22,
   "metadata": {},
   "outputs": [
    {
     "name": "stdout",
     "output_type": "stream",
     "text": [
      "How\n",
      "muchmuch\n",
      "woodwoodwood\n",
      "wouldwouldwouldwould\n",
      "aaaaa\n",
      "woodchuckwoodchuckwoodchuckwoodchuckwoodchuckwoodchuck\n",
      "chuckchuckchuckchuckchuckchuckchuck\n",
      "ifififififififif\n",
      "aaaaaaaaa\n",
      "woodchuckwoodchuckwoodchuckwoodchuckwoodchuckwoodchuckwoodchuckwoodchuckwoodchuckwoodchuck\n",
      "couldcouldcouldcouldcouldcouldcouldcouldcouldcouldcould\n",
      "chuckchuckchuckchuckchuckchuckchuckchuckchuckchuckchuckchuck\n",
      "wood?wood?wood?wood?wood?wood?wood?wood?wood?wood?wood?wood?wood?\n"
     ]
    }
   ],
   "source": [
    "#10 \n",
    "strang = \"How much wood would a woodchuck chuck if a woodchuck could chuck wood?\"\n",
    "\n",
    "# Dela upp strängen i ord\n",
    "wordlist = strang.split()\n",
    "\n",
    "# Loopa igenom varje ord i listan\n",
    "for i, ordet in enumerate(wordlist):\n",
    "    # Skriv ut ordet upprepat 'i+1' gånger (i börjar från 0)\n",
    "    print(ordet * (i + 1))"
   ]
  },
  {
   "cell_type": "markdown",
   "metadata": {},
   "source": [
    "11 Utgå från strängen “How much wood would a woodchuck chuck if a woodchuck could chuck wood?”. Gör ett program som på första raden skriver ut första ordet. På nästa rad skriver ut de två första orden, sedan de tre första orden på nästa rad o.s.v till man kommit till raden som skriver ut hela meningen. Alltså:\n",
    "How\n",
    "How much\n",
    "How much wood\n",
    "o.s.v."
   ]
  },
  {
   "cell_type": "code",
   "execution_count": 21,
   "metadata": {},
   "outputs": [
    {
     "name": "stdout",
     "output_type": "stream",
     "text": [
      "How\n",
      "How much\n",
      "How much wood\n",
      "How much wood would\n",
      "How much wood would a\n",
      "How much wood would a woodchuck\n",
      "How much wood would a woodchuck chuck\n",
      "How much wood would a woodchuck chuck if\n",
      "How much wood would a woodchuck chuck if a\n",
      "How much wood would a woodchuck chuck if a woodchuck\n",
      "How much wood would a woodchuck chuck if a woodchuck could\n",
      "How much wood would a woodchuck chuck if a woodchuck could chuck\n",
      "How much wood would a woodchuck chuck if a woodchuck could chuck wood?\n"
     ]
    }
   ],
   "source": [
    "#11\n",
    "str = \"How much wood would a woodchuck chuck if a woodchuck could chuck wood?\"\n",
    "\n",
    "# Dela upp strängen i ord\n",
    "wordlist = str.split()\n",
    "\n",
    "# Loopa igenom varje ord i listan\n",
    "for i in range(len(wordlist)):\n",
    "    # Skriv ut ordet upprepat 'i+1' gånger (i börjar från 0)\n",
    "    print(\" \".join(wordlist[:i+1]))"
   ]
  },
  {
   "cell_type": "markdown",
   "metadata": {},
   "source": [
    "12 Utgå från samma sträng igen, men denna gång ska programmet skriva ut hela strängen på varje rad. På första raden ska första ordet vara grön (övriga vita), på andra raden ska andra ordet vara grönt. På tredje raden ska tredje vara grön osv. Alltså:\n",
    "How much wood would a woodchuck chuck if a woodchuck could chuck wood?\n",
    "How much wood would a woodchuck chuck if a woodchuck could chuck wood?\n",
    "How much wood would a woodchuck chuck if a woodchuck could chuck wood?\n",
    "o.s.v."
   ]
  },
  {
   "cell_type": "code",
   "execution_count": 31,
   "metadata": {},
   "outputs": [
    {
     "name": "stdout",
     "output_type": "stream",
     "text": [
      "\u001b[32mHow \u001b[37mmuch \u001b[37mwood \u001b[37mwould \u001b[37ma \u001b[37mwoodchuck \u001b[37mchuck \u001b[37mif \u001b[37ma \u001b[37mwoodchuck \u001b[37mcould \u001b[37mchuck \u001b[37mwood? \u001b[0m\n",
      "\u001b[37mHow \u001b[32mmuch \u001b[37mwood \u001b[37mwould \u001b[37ma \u001b[37mwoodchuck \u001b[37mchuck \u001b[37mif \u001b[37ma \u001b[37mwoodchuck \u001b[37mcould \u001b[37mchuck \u001b[37mwood? \u001b[0m\n",
      "\u001b[37mHow \u001b[37mmuch \u001b[32mwood \u001b[37mwould \u001b[37ma \u001b[37mwoodchuck \u001b[37mchuck \u001b[37mif \u001b[37ma \u001b[37mwoodchuck \u001b[37mcould \u001b[37mchuck \u001b[37mwood? \u001b[0m\n",
      "\u001b[37mHow \u001b[37mmuch \u001b[37mwood \u001b[32mwould \u001b[37ma \u001b[37mwoodchuck \u001b[37mchuck \u001b[37mif \u001b[37ma \u001b[37mwoodchuck \u001b[37mcould \u001b[37mchuck \u001b[37mwood? \u001b[0m\n",
      "\u001b[37mHow \u001b[37mmuch \u001b[37mwood \u001b[37mwould \u001b[32ma \u001b[37mwoodchuck \u001b[37mchuck \u001b[37mif \u001b[37ma \u001b[37mwoodchuck \u001b[37mcould \u001b[37mchuck \u001b[37mwood? \u001b[0m\n",
      "\u001b[37mHow \u001b[37mmuch \u001b[37mwood \u001b[37mwould \u001b[37ma \u001b[32mwoodchuck \u001b[37mchuck \u001b[37mif \u001b[37ma \u001b[37mwoodchuck \u001b[37mcould \u001b[37mchuck \u001b[37mwood? \u001b[0m\n",
      "\u001b[37mHow \u001b[37mmuch \u001b[37mwood \u001b[37mwould \u001b[37ma \u001b[37mwoodchuck \u001b[32mchuck \u001b[37mif \u001b[37ma \u001b[37mwoodchuck \u001b[37mcould \u001b[37mchuck \u001b[37mwood? \u001b[0m\n",
      "\u001b[37mHow \u001b[37mmuch \u001b[37mwood \u001b[37mwould \u001b[37ma \u001b[37mwoodchuck \u001b[37mchuck \u001b[32mif \u001b[37ma \u001b[37mwoodchuck \u001b[37mcould \u001b[37mchuck \u001b[37mwood? \u001b[0m\n",
      "\u001b[37mHow \u001b[37mmuch \u001b[37mwood \u001b[37mwould \u001b[37ma \u001b[37mwoodchuck \u001b[37mchuck \u001b[37mif \u001b[32ma \u001b[37mwoodchuck \u001b[37mcould \u001b[37mchuck \u001b[37mwood? \u001b[0m\n",
      "\u001b[37mHow \u001b[37mmuch \u001b[37mwood \u001b[37mwould \u001b[37ma \u001b[37mwoodchuck \u001b[37mchuck \u001b[37mif \u001b[37ma \u001b[32mwoodchuck \u001b[37mcould \u001b[37mchuck \u001b[37mwood? \u001b[0m\n",
      "\u001b[37mHow \u001b[37mmuch \u001b[37mwood \u001b[37mwould \u001b[37ma \u001b[37mwoodchuck \u001b[37mchuck \u001b[37mif \u001b[37ma \u001b[37mwoodchuck \u001b[32mcould \u001b[37mchuck \u001b[37mwood? \u001b[0m\n",
      "\u001b[37mHow \u001b[37mmuch \u001b[37mwood \u001b[37mwould \u001b[37ma \u001b[37mwoodchuck \u001b[37mchuck \u001b[37mif \u001b[37ma \u001b[37mwoodchuck \u001b[37mcould \u001b[32mchuck \u001b[37mwood? \u001b[0m\n",
      "\u001b[37mHow \u001b[37mmuch \u001b[37mwood \u001b[37mwould \u001b[37ma \u001b[37mwoodchuck \u001b[37mchuck \u001b[37mif \u001b[37ma \u001b[37mwoodchuck \u001b[37mcould \u001b[37mchuck \u001b[32mwood? \u001b[0m\n"
     ]
    }
   ],
   "source": [
    "#12\n",
    "strang = \"How much wood would a woodchuck chuck if a woodchuck could chuck wood?\"\n",
    "\n",
    "# Dela upp strängen i ord\n",
    "ordslista = strang.split()\n",
    "\n",
    "# Loopa igenom och skriv ut varje rad\n",
    "for i in range(len(ordslista)):\n",
    "    for j, ordet in enumerate(ordslista):\n",
    "        if j == i:\n",
    "            print(\"\\033[32m\" + ordet, end=\" \")\n",
    "        else:\n",
    "            print(\"\\033[37m\" + ordet, end=\" \")\n",
    "    print(\"\\033[0m\")\n",
    "\n",
    "\n"
   ]
  },
  {
   "cell_type": "markdown",
   "metadata": {},
   "source": [
    "13, Utgå från strängen “abcdefghijklmnopqrstuvwxyz”. Hela strängen skrivs ut på varje rad. På första raden är de 5 första tecknen gröna. På nästa rad är “bcdef” grön, sedan “cedfg” osv.. alltså alltid 5 tecken, men de flyttas ett steg åt höger för varje rad, tills sista raden har “vwxyz” grönfärgad. Alltså:\n",
    "abcdefghijklmnopqrstuvwxyz\n",
    "abcdefghijklmnopqrstuvwxyz\n",
    "abcdefghijklmnopqrstuvwxyz\n",
    "o.s.v."
   ]
  },
  {
   "cell_type": "markdown",
   "metadata": {},
   "source": [
    "\n",
    "14 Användaren matar in valfri sträng. Programmet skriver ut hela strängen bokstav för bokstav. Alla bokstäverna är gröna fram tills du stöter på ett tecken som är samma som första tecknet i strängen. Därefter skriver den ut resten av bokstäver med vit/grå färg. Några exempel på inmatningar:\n",
    "ajdfhvajhdfd\n",
    "hhfgijff\n",
    "fjpdpog\n",
    "\n",
    "\n",
    "15 Användaren matar in valfri sträng. Programmet skriver sedan ut en hela strängen flera gånger. På första raden börjar den skriva med grön färg på första bokstaven och fram tills den hittar samma bokstav igen. På andra raden börjar den skriva med grön färg på andra bokstaven och fram tills den hittar samma bokstav igen. På tredje raden börjar den skriva med grön text på tredje bokstaven och fram tills den hittar samma igen. Om man t.ex matar in “ajdfhvajhdfd” blir det då:\n",
    "ajdfhvajhdfd\n",
    "ajdfhvajhdfd\n",
    "ajdfhvajhdfd\n",
    "ajdfhvajhdfd\n",
    "o.s.v"
   ]
  },
  {
   "cell_type": "code",
   "execution_count": 1,
   "metadata": {},
   "outputs": [
    {
     "name": "stdout",
     "output_type": "stream",
     "text": [
      "\u001b[92mh\u001b[0m\n",
      "\u001b[92mhe\u001b[0m\n",
      "\u001b[92mhej\u001b[0m\n",
      "\u001b[92me\u001b[0m\n",
      "\u001b[92mej\u001b[0m\n",
      "\u001b[92mj\u001b[0m\n"
     ]
    }
   ],
   "source": [
    "def print_colored_repeatedly(input_string):\n",
    "    input_length = len(input_string)\n",
    "\n",
    "    for i in range(input_length):\n",
    "        for j in range(i, input_length):\n",
    "            print('\\033[92m' + input_string[i:j+1] + '\\033[0m')\n",
    "\n",
    "input_string = input(\"Mata in en valfri sträng: \")\n",
    "print_colored_repeatedly(input_string)"
   ]
  },
  {
   "cell_type": "code",
   "execution_count": 11,
   "metadata": {},
   "outputs": [
    {
     "name": "stdout",
     "output_type": "stream",
     "text": [
      "5\n"
     ]
    }
   ],
   "source": [
    "lista = [6, 5, 4, 3, 2]\n",
    "print(len(lista))"
   ]
  },
  {
   "cell_type": "code",
   "execution_count": 12,
   "metadata": {},
   "outputs": [
    {
     "name": "stdout",
     "output_type": "stream",
     "text": [
      "1\n",
      "2\n",
      "3\n",
      "4\n",
      "5\n",
      "6\n",
      "7\n",
      "8\n",
      "9\n",
      "10\n"
     ]
    }
   ],
   "source": [
    "for i in range(1, 11):\n",
    "    print(i)"
   ]
  },
  {
   "cell_type": "code",
   "execution_count": 13,
   "metadata": {},
   "outputs": [
    {
     "name": "stdout",
     "output_type": "stream",
     "text": [
      "Hejsan\n",
      "Hejsan\n",
      "Hejsan\n",
      "Hejsan\n"
     ]
    }
   ],
   "source": [
    "for i in range(1, 5):\n",
    "    print(\"Hejsan\")"
   ]
  },
  {
   "cell_type": "code",
   "execution_count": 16,
   "metadata": {},
   "outputs": [
    {
     "name": "stdout",
     "output_type": "stream",
     "text": [
      "Fyrans gångertabell:\n"
     ]
    },
    {
     "ename": "TypeError",
     "evalue": "'str' object is not callable",
     "output_type": "error",
     "traceback": [
      "\u001b[1;31m---------------------------------------------------------------------------\u001b[0m",
      "\u001b[1;31mTypeError\u001b[0m                                 Traceback (most recent call last)",
      "\u001b[1;32mc:\\Users\\NedyaIbrahim-AI23GBG\\Documents\\Github\\Python-Nedya-Ibrahim\\Exercies\\string_exercis.ipynb Cell 31\u001b[0m line \u001b[0;36m5\n\u001b[0;32m      <a href='vscode-notebook-cell:/c%3A/Users/NedyaIbrahim-AI23GBG/Documents/Github/Python-Nedya-Ibrahim/Exercies/string_exercis.ipynb#Y124sZmlsZQ%3D%3D?line=2'>3</a>\u001b[0m \u001b[39mfor\u001b[39;00m i \u001b[39min\u001b[39;00m \u001b[39mrange\u001b[39m(\u001b[39m1\u001b[39m, \u001b[39m11\u001b[39m): \n\u001b[0;32m      <a href='vscode-notebook-cell:/c%3A/Users/NedyaIbrahim-AI23GBG/Documents/Github/Python-Nedya-Ibrahim/Exercies/string_exercis.ipynb#Y124sZmlsZQ%3D%3D?line=3'>4</a>\u001b[0m     resultat \u001b[39m=\u001b[39m i \u001b[39m*\u001b[39m \u001b[39m4\u001b[39m\n\u001b[1;32m----> <a href='vscode-notebook-cell:/c%3A/Users/NedyaIbrahim-AI23GBG/Documents/Github/Python-Nedya-Ibrahim/Exercies/string_exercis.ipynb#Y124sZmlsZQ%3D%3D?line=4'>5</a>\u001b[0m     \u001b[39mprint\u001b[39m(\u001b[39mstr\u001b[39;49m(i) \u001b[39m+\u001b[39m \u001b[39m\"\u001b[39m\u001b[39m x 4 =\u001b[39m\u001b[39m\"\u001b[39m \u001b[39m+\u001b[39m \u001b[39mstr\u001b[39m(resultat))\n\u001b[0;32m      <a href='vscode-notebook-cell:/c%3A/Users/NedyaIbrahim-AI23GBG/Documents/Github/Python-Nedya-Ibrahim/Exercies/string_exercis.ipynb#Y124sZmlsZQ%3D%3D?line=6'>7</a>\u001b[0m \u001b[39mprint\u001b[39m(\u001b[39m\"\u001b[39m\u001b[39mHejdå!\u001b[39m\u001b[39m\"\u001b[39m) \n",
      "\u001b[1;31mTypeError\u001b[0m: 'str' object is not callable"
     ]
    }
   ],
   "source": [
    "print(\"Fyrans gångertabell:\") \n",
    "\n",
    "for i in range(1, 11): \n",
    "    resultat = i * 4\n",
    "    print(str(i) + \" x 4 =\" + str(resultat))\n",
    "\n",
    "print(\"Hejdå!\") "
   ]
  },
  {
   "cell_type": "markdown",
   "metadata": {},
   "source": [
    "range: Skapar ett intervall som kan användas för att upprepa kod, till exempel alla tal mellan 1 och 10.\n",
    "for-loop: En typ av loop/upprepning som passar bra när det är ett på förhand bestämt antal steg.\n",
    "while-loop: En typ av loop/upprepning som passar bra när vi inte vet på förhand hur många steg som ska köras. Kan också användas för oändliga loopar.\n",
    "Variabel: En plats i datorns minne där vi kan spara något, kanske en bit text, ett namn, eller ett tal som 42."
   ]
  },
  {
   "cell_type": "code",
   "execution_count": 17,
   "metadata": {},
   "outputs": [
    {
     "name": "stdout",
     "output_type": "stream",
     "text": [
      "Hej\n",
      "Hej\n",
      "då\n"
     ]
    }
   ],
   "source": [
    "for i in range(5,7):\n",
    "    print('Hej')\n",
    "print('då')"
   ]
  },
  {
   "cell_type": "code",
   "execution_count": 19,
   "metadata": {},
   "outputs": [],
   "source": [
    "import turtle \n",
    "turtle.color('red') \n",
    "turtle.left(180) \n",
    "turtle.forward(180)"
   ]
  },
  {
   "cell_type": "code",
   "execution_count": 1,
   "metadata": {},
   "outputs": [
    {
     "name": "stdout",
     "output_type": "stream",
     "text": [
      "dryckloäosoko\n"
     ]
    }
   ],
   "source": [
    "start='läsk'\n",
    "resultat='dryck'\n",
    "for bokstav in start:\n",
    "    resultat = resultat + bokstav + 'o'\n",
    "print(resultat)"
   ]
  },
  {
   "cell_type": "code",
   "execution_count": 2,
   "metadata": {},
   "outputs": [
    {
     "name": "stdout",
     "output_type": "stream",
     "text": [
      "40\n"
     ]
    }
   ],
   "source": [
    "lista = [10, 20, 0, 40, 30]\n",
    "print(max(lista) - min(lista))"
   ]
  }
 ],
 "metadata": {
  "kernelspec": {
   "display_name": "NedyaIbrahim-AI23GBG-WRK3xpSZ",
   "language": "python",
   "name": "python3"
  },
  "language_info": {
   "codemirror_mode": {
    "name": "ipython",
    "version": 3
   },
   "file_extension": ".py",
   "mimetype": "text/x-python",
   "name": "python",
   "nbconvert_exporter": "python",
   "pygments_lexer": "ipython3",
   "version": "3.11.5"
  },
  "orig_nbformat": 4
 },
 "nbformat": 4,
 "nbformat_minor": 2
}
