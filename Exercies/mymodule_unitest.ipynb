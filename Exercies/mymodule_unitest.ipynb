{
 "cells": [
  {
   "cell_type": "markdown",
   "metadata": {},
   "source": [
    "I denna kommer jag skriva om module och enhetstest"
   ]
  },
  {
   "cell_type": "markdown",
   "metadata": {},
   "source": [
    "en modul i python är en py.fil där vi har skrivit funktioner men istället för att köra den från terminalen så importerar vi den. vi kan implimintera våran egen kod som ett bibliotek. Varför vill man göra så? anledningen till att man gör ett bilbliotek i en fil är ju iprincip samma anledning man gör en funktion dels kan vi återanvända den och vi kan gömma undan lite detaljer och dels gör man ett stort projekt kan man skissa upp det i flera filer. Vi vill inte ha en fil med tusenrader kod då vill man dela upp det i massa små bitar. det man gör när man skriver en egen klass gör man en egen fil och därefter importerar vi den. Man har oftast bara 1 class i en fil. Vi gör ett test med en py fil. Biblikotek är en kod man kan ladda ner och återanvända.\n",
    "i python är det oftas Modul är en separat py fil eller\n",
    "pagage är en katalog med massa py filer. Typisk de vi laddar ner. Då är det oftast flera filer. man kan återanvända-.\n",
    "\n",
    "För att skapa en fil och återanvända den i en annan. Först skapar du en python.fil. Du öppnar upp den i terminalen via den sökväg du har sparat den på. Tex filen heter (Hej.py) i terminalen tryck ls. du får upp en lista. ta fram mappen du sparat filen i tex som i detta fall Excerisise. ls-cd Excersise och namnet på filen. Lika dant när du ska öppna den importerade filen men då använder du dennes namn. Om man vill använda filen som en modul vill man inte ha kod som exikviterar men gör man en funktion med def. Man vill bara att en modul ska ladda in data. Funktionalitet vi kan använda oss av som hjälp medel.\n",
    "__ special funktion __name__. Python sätter in den automatiakt. Om python kör filen direkt så sätter den __main__ men annasr sätter den ut modulens namn. på import sidan sätts namnet på modulen in men på den aktuella sidan så sätts __main__ ut. Ibland vill man ha att koden ska gå som en modul men att den också ska gå och köra från terminalen. då gör man en def __main__ och skriver kod och anropar den via __main__. Först kommer den printa __name__ sedan  skriver den ut resten. Från import sidan skriver den istället: Då skriver den ut namnet på filen och göra allt annat.Vanligt att ha if __name__ == \"__main__\":.\n",
    "\n",
    "Viktiga att förstå är att när vi glr en import laddar in hela den filen och exikiterar den. Laddar kod utan def så kommer den koden också att köra.men sättet är att undvika är att göra if __name__ == \"__main__\". Man kan bara ha def/funktioner utan name och main. men om man vill ha det bör man göra som jag skrev ovan. \n"
   ]
  },
  {
   "cell_type": "markdown",
   "metadata": {},
   "source": [
    "Unitesting.\n",
    "Detta handlar om hur vi testar våran kod. Vad är testa? Ser att den funkar och att funktionaliteten är korrekt. Finns det inget uppenbart sätt men vi testar vår kod genom. Testa olika senarium, vilka är rimligaste att testa.\n",
    "\n",
    "tre sorters fel: Syntaxerror: programmet säger ganska snabbt om ngt är fel, \n",
    "runtimeerror: Det krashar ngnstans på vägen\n",
    " logiterror: Den gör inte det vi vill (rern)\n",
    "\n",
    " Certainly! Here are the code names in English:\n",
    "\n",
    "Section 1:\n",
    "\"Let's play a game with a well-defined goal and two minutes to achieve it. We have only three rules, and the result is a completely different way of coding. Welcome to test-driven development, the game of testing. In today's tutorial, I will demonstrate a basic test-driven development workflow where the goal is an encryption function that hides secret messages.\"\n",
    "\n",
    "Section 2:\n",
    "\"In my case, I'm going for a very simple encryption algorithm known as the Caesar cipher, where we move the letters of the English alphabet one character to the right, so A becomes B, B becomes C, and so on.\"\n",
    "\n",
    "Section 3:\n",
    "\"The first question to ask is if we can even write such an algorithm in two minutes, probably not. It gets stressful when the clock is ticking, so we will use a divide and conquer strategy where we break the big task into smaller parts that we can solve one step at a time.\"\n",
    "\n",
    "Section 4:\n",
    "\"Here are the rules of test-driven development: Rule number one - You may not write any production code unless you've written a failing unit test for it. We first define what we are testing. Rule number two - You may not write more unit tests than are necessary to fail. Rule number three - You may not write more production code than is necessary to pass a failing test.\"\n",
    "\n",
    "Section 5:\n",
    "\"Once we have our basic structure, we can move on to the actual test cases. We test if we even have a message to encrypt, and we use a testing framework called 'unittest.'\"\n",
    "\n",
    "Section 6:\n",
    "\"We also test if the message is a string and check the length of the encrypted message. Then we move on to testing the actual encryption algorithm.\"\n",
    "\n",
    "Section 7:\n",
    "\"Finally, we test if our algorithm actually shifts the secret message one character at a time and challenge others to modify the code so that we can use different shifts with each call to the 'encrypt' function.\"\n",
    "\n",
    "Summary:\n",
    "The text is about test-driven development (TDD) and how to implement a simple encryption algorithm, the Caesar cipher, using TDD principles. The author divides the task into smaller parts and creates unit tests for each part of the code. Rule number one is to write test cases before writing production code. Rule number two is to write just enough unit tests to make them fail, and rule number three is to write minimal production code to pass failing tests. The reader is encouraged to attempt to develop the code to support different shifts with each call to the 'encrypt' function and share their solutions."
   ]
  }
 ],
 "metadata": {
  "kernelspec": {
   "display_name": "NedyaIbrahim-AI23GBG-WRK3xpSZ",
   "language": "python",
   "name": "python3"
  },
  "language_info": {
   "codemirror_mode": {
    "name": "ipython",
    "version": 3
   },
   "file_extension": ".py",
   "mimetype": "text/x-python",
   "name": "python",
   "nbconvert_exporter": "python",
   "pygments_lexer": "ipython3",
   "version": "3.11.5"
  },
  "orig_nbformat": 4
 },
 "nbformat": 4,
 "nbformat_minor": 2
}
