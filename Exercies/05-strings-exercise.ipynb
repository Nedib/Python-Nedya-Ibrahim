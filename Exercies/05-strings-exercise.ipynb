{
 "cells": [
  {
   "cell_type": "markdown",
   "metadata": {},
   "source": [
    "## 1. Counting letters (*)\n",
    "\n",
    "Let the user input a word: \n",
    "\n",
    "&nbsp; a) &nbsp; print out the number of letters in the word. (*) \n",
    "  \n",
    "&nbsp; b) &nbsp; print out the number of **uppercase** and **lowercase** letters of the word (*)   \n"
   ]
  },
  {
   "cell_type": "code",
   "execution_count": null,
   "metadata": {},
   "outputs": [],
   "source": [
    "# Ask the user to input a word\n",
    "word = input(\"Enter a word: \")\n",
    "\n",
    "# Count the number of letters in the word\n",
    "letter_count = sum(1 for char in word if char.isalpha())\n",
    "\n",
    "# Count the number of uppercase and lowercase letters\n",
    "uppercase_count = sum(1 for char in word if char.isupper())\n",
    "lowercase_count = sum(1 for char in word if char.islower())\n",
    "\n",
    "# Print the results\n",
    "print(f\"Number of letters in the word: {letter_count}\")\n",
    "print(f\"Number of uppercase letters: {uppercase_count}\")\n",
    "print(f\"Number of lowercase letters: {lowercase_count}\")"
   ]
  },
  {
   "cell_type": "markdown",
   "metadata": {},
   "source": [
    "---\n",
    "## 2. Print names separately (*)\n",
    "\n",
    "Ask the user to input their first and last name (same input e.g. \"Fredrik Johansson\"). Then print the names separately:\n",
    "\n",
    "<details>\n",
    "\n",
    "<summary>Answer</summary>\n",
    "\n",
    "```\n",
    "Firstname: Fredrik\n",
    "Lastname: Johansson\n",
    "```"
   ]
  },
  {
   "cell_type": "code",
   "execution_count": 2,
   "metadata": {},
   "outputs": [
    {
     "name": "stdout",
     "output_type": "stream",
     "text": [
      "Firstname: sören\n",
      "Lastname: gust\n"
     ]
    }
   ],
   "source": [
    "# Ask the user to input their first and last name\n",
    "full_name = input(\"Enter your first and last name: \")\n",
    "\n",
    "# Split the full name into first and last names\n",
    "names = full_name.split()\n",
    "\n",
    "# Check if both first and last names were provided\n",
    "if len(names) == 2:\n",
    "    first_name, last_name = names\n",
    "    print(f\"Firstname: {first_name}\")\n",
    "    print(f\"Lastname: {last_name}\")\n",
    "else:\n",
    "    print(\"Please enter both your first and last names.\")"
   ]
  },
  {
   "cell_type": "markdown",
   "metadata": {},
   "source": [
    "---\n",
    "## 3. Counting words (*)\n",
    "\n",
    "Count the number of words in this sentence: \"A picture says more than a thousand words, a matematical formula says more than a thousand pictures.\" (*) \n",
    "\n",
    "<details>\n",
    "\n",
    "<summary>Answer</summary>\n",
    "\n",
    "```\n",
    "There are 17 words in that sentence\n",
    "```"
   ]
  },
  {
   "cell_type": "code",
   "execution_count": null,
   "metadata": {},
   "outputs": [],
   "source": [
    "# Define the sentence\n",
    "sentence = \"A picture says more than a thousand words, a mathematical formula says more than a thousand pictures.\"\n",
    "\n",
    "# Split the sentence into words using space as the delimiter and count the words\n",
    "word_count = len(sentence.split())\n",
    "\n",
    "# Print the result\n",
    "print(f\"The number of words in the sentence is: {word_count}\")"
   ]
  },
  {
   "cell_type": "markdown",
   "metadata": {},
   "source": [
    "---\n",
    "## 4. Print words in reverse (*)\n",
    "\n",
    "a) Ask the user to input a sentence, then print the words in reverse order. (*) \n",
    "\n",
    "b) Also, make the first letter in the first word uppercase when reversed.\n",
    "\n",
    "<details>\n",
    "\n",
    "<summary>Answer</summary>\n",
    "\n",
    "```\n",
    "a)\n",
    "Example input: This is input from the user\n",
    "Output: user the from input is This\n",
    "```\n",
    "\n",
    "```\n",
    "b)\n",
    "Example input: This is input from the user\n",
    "Output: User the from input is this\n",
    "```\n"
   ]
  },
  {
   "cell_type": "markdown",
   "metadata": {},
   "source": [
    "---\n",
    "## 5. Palindrome (*)\n",
    "\n",
    "A palindrome is a sequence of characters that is the same, when read forward as backwards (ignoring spaces). For example:\n",
    "- \"Anna\" is a palindrome\n",
    "- \"Ni talar bra latin\"\n",
    "- \"bjkjb \"\n",
    "\n",
    "Let the user input a sequence of characters and check if it is a palindrome. (*)"
   ]
  },
  {
   "cell_type": "code",
   "execution_count": null,
   "metadata": {},
   "outputs": [],
   "source": [
    "def is_palindrome(input_string):\n",
    "    # Remove spaces and convert the input string to lowercase\n",
    "    cleaned_string = input_string.replace(\" \", \"\").lower()\n",
    "    \n",
    "    # Check if the cleaned string is the same as its reverse\n",
    "    return cleaned_string == cleaned_string[::-1]\n",
    "\n",
    "# User input\n",
    "user_input = input(\"Enter a sequence of characters: \")\n",
    "\n",
    "# Check if the input is a palindrome\n",
    "if is_palindrome(user_input):\n",
    "    print(\"The input is a palindrome.\")\n",
    "else:\n",
    "    print(\"The input is not a palindrome.\")"
   ]
  },
  {
   "cell_type": "markdown",
   "metadata": {},
   "source": [
    "---\n",
    "## 6. Vowels (**)\n",
    "\n",
    "Count the number of vowels in this sentence: \"Pure mathematics is, in its way, the poetry of logical ideas\"\n",
    "\n",
    "<details>\n",
    "\n",
    "<summary>Answer</summary>\n",
    "\n",
    "```\n",
    "\n",
    "There are 22 vowels in this sentence\n",
    "\n",
    "```\n",
    "</details>"
   ]
  },
  {
   "cell_type": "code",
   "execution_count": null,
   "metadata": {},
   "outputs": [],
   "source": [
    "# Define the sentence\n",
    "sentence = \"Pure mathematics is, in its way, the poetry of logical ideas\"\n",
    "\n",
    "# Define a function to count vowels in a string\n",
    "def count_vowels(input_string):\n",
    "    vowels = \"aeiouAEIOU\"\n",
    "    vowel_count = 0\n",
    "    for char in input_string:\n",
    "        if char in vowels:\n",
    "            vowel_count += 1\n",
    "    return vowel_count\n",
    "\n",
    "# Call the function to count vowels in the sentence\n",
    "vowel_count = count_vowels(sentence)\n",
    "\n",
    "# Print the result\n",
    "print(f\"The number of vowels in the sentence is: {vowel_count}\")"
   ]
  },
  {
   "cell_type": "markdown",
   "metadata": {},
   "source": [
    "---\n",
    "## 7. Rövarspråket (**)\n",
    "\n",
    "Ask the user to input a sentence, and translate it using the formula described in this article:\n",
    "\n",
    "https://en.wikipedia.org/wiki/R%C3%B6varspr%C3%A5ket\n"
   ]
  },
  {
   "cell_type": "code",
   "execution_count": null,
   "metadata": {},
   "outputs": [],
   "source": [
    "# Function to translate a sentence into Rövarspråket\n",
    "def translate_to_rovarspraket(sentence):\n",
    "    consonants = \"bcdfghjklmnpqrstvwxyzBCDFGHJKLMNPQRSTVWXYZ\"\n",
    "    translated_sentence = \"\"\n",
    "\n",
    "    for char in sentence:\n",
    "        if char in consonants:\n",
    "            # Double the consonant with an \"o\" in between\n",
    "            translated_sentence += char + \"o\" + char\n",
    "        else:\n",
    "            # Keep vowels and other characters unchanged\n",
    "            translated_sentence += char\n",
    "\n",
    "    return translated_sentence\n",
    "\n",
    "# Ask the user to input a sentence\n",
    "user_input = input(\"Enter a sentence to translate into Rövarspråket: \")\n",
    "\n",
    "# Translate the sentence and print the result\n",
    "translation = translate_to_rovarspraket(user_input)\n",
    "print(f\"Translated sentence in Rövarspråket: {translation}\")"
   ]
  },
  {
   "cell_type": "markdown",
   "metadata": {},
   "source": [
    "---\n",
    "## 8. Encryption (**)\n",
    "\n",
    "Let the user input a word and: \n",
    "\n",
    "&nbsp; a) &nbsp; encrypt the message by replacing each letter with the next letter. If the letter is in the end of the alphabet, use the first letter instead. \n",
    "\n",
    "e.g. in Swedish: \"höst\" $\\rightarrow$ \"iatu\"\n",
    "\n",
    "&nbsp; b) &nbsp; decrypt the message\n",
    "\n",
    "&nbsp; c) &nbsp; let the user choose either encryption or decryption."
   ]
  },
  {
   "cell_type": "code",
   "execution_count": null,
   "metadata": {},
   "outputs": [],
   "source": [
    "# Function to encrypt a message\n",
    "def encrypt(message):\n",
    "    encrypted_message = \"\"\n",
    "    for char in message:\n",
    "        if char.isalpha():\n",
    "            is_upper = char.isupper()\n",
    "            shifted_char = chr(((ord(char.lower()) - ord('a') + 1) % 26) + ord('a'))\n",
    "            if is_upper:\n",
    "                shifted_char = shifted_char.upper()\n",
    "            encrypted_message += shifted_char\n",
    "        else:\n",
    "            encrypted_message += char\n",
    "    return encrypted_message\n",
    "\n",
    "# Function to decrypt a message\n",
    "def decrypt(encrypted_message):\n",
    "    decrypted_message = \"\"\n",
    "    for char in encrypted_message:\n",
    "        if char.isalpha():\n",
    "            is_upper = char.isupper()\n",
    "            shifted_char = chr(((ord(char.lower()) - ord('a') - 1) % 26) + ord('a'))\n",
    "            if is_upper:\n",
    "                shifted_char = shifted_char.upper()\n",
    "            decrypted_message += shifted_char\n",
    "        else:\n",
    "            decrypted_message += char\n",
    "    return decrypted_message\n",
    "\n",
    "# Ask the user to input a word\n",
    "user_input = input(\"Enter a word or message: \")\n",
    "\n",
    "# Ask the user whether to encrypt or decrypt\n",
    "choice = input(\"Choose 'e' to encrypt or 'd' to decrypt: \")\n",
    "\n",
    "if choice == 'e':\n",
    "    # Encrypt the message\n",
    "    encrypted_result = encrypt(user_input)\n",
    "    print(f\"Encrypted message: {encrypted_result}\")\n",
    "elif choice == 'd':\n",
    "    # Decrypt the message\n",
    "    decrypted_result = decrypt(user_input)\n",
    "    print(f\"Decrypted message: {decrypted_result}\")\n",
    "else:\n",
    "    print(\"Invalid choice. Please enter 'e' to encrypt or 'd' to decrypt.\")"
   ]
  }
 ],
 "metadata": {
  "kernelspec": {
   "display_name": "Python 3.9.6 64-bit",
   "language": "python",
   "name": "python3"
  },
  "language_info": {
   "codemirror_mode": {
    "name": "ipython",
    "version": 3
   },
   "file_extension": ".py",
   "mimetype": "text/x-python",
   "name": "python",
   "nbconvert_exporter": "python",
   "pygments_lexer": "ipython3",
   "version": "3.11.5"
  },
  "orig_nbformat": 4,
  "vscode": {
   "interpreter": {
    "hash": "0da836a34428266995a795f1e1e27b816fa1c02f148d9728b3fbbbc5459afca6"
   }
  }
 },
 "nbformat": 4,
 "nbformat_minor": 2
}
