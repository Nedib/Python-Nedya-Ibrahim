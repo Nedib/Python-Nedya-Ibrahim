{
 "cells": [
  {
   "cell_type": "markdown",
   "metadata": {},
   "source": [
    "# Load and save data to files\n",
    "\n",
    "We can catogorize files in to 2 main categories, text files and binary files.\n",
    "- Text files stores text / characters in a human readable format.\n",
    "- Binary files stores byte data (1's and 0's) that only computers understand.\n",
    "\n",
    "## Common text based files to store data\n",
    "- **.txt** Plain english (or other language) text.\n",
    "- **.csv** Comma Separated Values\n",
    "- **.json** Javascript Object Notation\n",
    "\n",
    "## File names and file paths\n",
    "\n",
    "A file name usually has two parts, the name, and the file extenstion, separated with a dot (name.extension)\n",
    "\n",
    "e.g. hello.txt data.json myimage.jpg\n",
    "\n",
    "Paths can be expressed as either realtive or absolute:\n",
    "- **Absolute:** Full path to access a file or folder. Ex. c:\\users\\fredrik\\desktop\\myfile.txt\n",
    "- **Relative:** Relative from the current active folder. Ex. data\\data.json\n",
    "\n",
    "## File modes\n",
    "It's possible to open a file in python in different modes:\n",
    "- **'r':** for reading\n",
    "- **'w':** for writing (overwrites everything in file)\n",
    "- **'a':** for appending (also writing, but keeps existing content and append new content at end of file)"
   ]
  },
  {
   "cell_type": "markdown",
   "metadata": {},
   "source": [
    "## Open file for reading"
   ]
  },
  {
   "cell_type": "code",
   "execution_count": 16,
   "metadata": {},
   "outputs": [
    {
     "ename": "FileNotFoundError",
     "evalue": "[Errno 2] No such file or directory: '..hello.txt'",
     "output_type": "error",
     "traceback": [
      "\u001b[1;31m---------------------------------------------------------------------------\u001b[0m",
      "\u001b[1;31mFileNotFoundError\u001b[0m                         Traceback (most recent call last)",
      "\u001b[1;32mc:\\Users\\NedyaIbrahim-AI23GBG\\Documents\\Github\\Python-Nedya-Ibrahim\\Exercies\\L013_Files.ipynb Cell 3\u001b[0m line \u001b[0;36m1\n\u001b[1;32m----> <a href='vscode-notebook-cell:/c%3A/Users/NedyaIbrahim-AI23GBG/Documents/Github/Python-Nedya-Ibrahim/Exercies/L013_Files.ipynb#W2sZmlsZQ%3D%3D?line=0'>1</a>\u001b[0m file \u001b[39m=\u001b[39m \u001b[39mopen\u001b[39;49m(\u001b[39m\"\u001b[39;49m\u001b[39m..hello.txt\u001b[39;49m\u001b[39m\"\u001b[39;49m, \u001b[39m\"\u001b[39;49m\u001b[39mr\u001b[39;49m\u001b[39m\"\u001b[39;49m)\n\u001b[0;32m      <a href='vscode-notebook-cell:/c%3A/Users/NedyaIbrahim-AI23GBG/Documents/Github/Python-Nedya-Ibrahim/Exercies/L013_Files.ipynb#W2sZmlsZQ%3D%3D?line=1'>2</a>\u001b[0m content \u001b[39m=\u001b[39m file\u001b[39m.\u001b[39mread()\n\u001b[0;32m      <a href='vscode-notebook-cell:/c%3A/Users/NedyaIbrahim-AI23GBG/Documents/Github/Python-Nedya-Ibrahim/Exercies/L013_Files.ipynb#W2sZmlsZQ%3D%3D?line=2'>3</a>\u001b[0m \u001b[39mprint\u001b[39m(content)\n",
      "File \u001b[1;32mc:\\Users\\NedyaIbrahim-AI23GBG\\.virtualenvs\\NedyaIbrahim-AI23GBG-WRK3xpSZ\\Lib\\site-packages\\IPython\\core\\interactiveshell.py:286\u001b[0m, in \u001b[0;36m_modified_open\u001b[1;34m(file, *args, **kwargs)\u001b[0m\n\u001b[0;32m    279\u001b[0m \u001b[39mif\u001b[39;00m file \u001b[39min\u001b[39;00m {\u001b[39m0\u001b[39m, \u001b[39m1\u001b[39m, \u001b[39m2\u001b[39m}:\n\u001b[0;32m    280\u001b[0m     \u001b[39mraise\u001b[39;00m \u001b[39mValueError\u001b[39;00m(\n\u001b[0;32m    281\u001b[0m         \u001b[39mf\u001b[39m\u001b[39m\"\u001b[39m\u001b[39mIPython won\u001b[39m\u001b[39m'\u001b[39m\u001b[39mt let you open fd=\u001b[39m\u001b[39m{\u001b[39;00mfile\u001b[39m}\u001b[39;00m\u001b[39m by default \u001b[39m\u001b[39m\"\u001b[39m\n\u001b[0;32m    282\u001b[0m         \u001b[39m\"\u001b[39m\u001b[39mas it is likely to crash IPython. If you know what you are doing, \u001b[39m\u001b[39m\"\u001b[39m\n\u001b[0;32m    283\u001b[0m         \u001b[39m\"\u001b[39m\u001b[39myou can use builtins\u001b[39m\u001b[39m'\u001b[39m\u001b[39m open.\u001b[39m\u001b[39m\"\u001b[39m\n\u001b[0;32m    284\u001b[0m     )\n\u001b[1;32m--> 286\u001b[0m \u001b[39mreturn\u001b[39;00m io_open(file, \u001b[39m*\u001b[39;49margs, \u001b[39m*\u001b[39;49m\u001b[39m*\u001b[39;49mkwargs)\n",
      "\u001b[1;31mFileNotFoundError\u001b[0m: [Errno 2] No such file or directory: '..hello.txt'"
     ]
    }
   ],
   "source": [
    "file = open(\"..\\data\\hello.txt\")\n",
    "\n",
    "content = file.read()\n",
    "\n",
    "print(content)\n",
    "\n",
    "file.close()\n",
    "\n"
   ]
  },
  {
   "cell_type": "markdown",
   "metadata": {},
   "source": [
    "## Open with context management"
   ]
  },
  {
   "cell_type": "code",
   "execution_count": 6,
   "metadata": {},
   "outputs": [
    {
     "ename": "FileNotFoundError",
     "evalue": "[Errno 2] No such file or directory: '..\\\\Data\\\\hello.txt'",
     "output_type": "error",
     "traceback": [
      "\u001b[1;31m---------------------------------------------------------------------------\u001b[0m",
      "\u001b[1;31mFileNotFoundError\u001b[0m                         Traceback (most recent call last)",
      "\u001b[1;32mc:\\Users\\NedyaIbrahim-AI23GBG\\Documents\\Github\\Python-Nedya-Ibrahim\\Exercies\\L013_Files.ipynb Cell 5\u001b[0m line \u001b[0;36m1\n\u001b[1;32m----> <a href='vscode-notebook-cell:/c%3A/Users/NedyaIbrahim-AI23GBG/Documents/Github/Python-Nedya-Ibrahim/Exercies/L013_Files.ipynb#W4sZmlsZQ%3D%3D?line=0'>1</a>\u001b[0m \u001b[39mwith\u001b[39;00m \u001b[39mopen\u001b[39;49m(\u001b[39m\"\u001b[39;49m\u001b[39m..\u001b[39;49m\u001b[39m\\\\\u001b[39;49;00m\u001b[39mData\u001b[39;49m\u001b[39m\\\\\u001b[39;49;00m\u001b[39mhello.txt\u001b[39;49m\u001b[39m\"\u001b[39;49m) \u001b[39mas\u001b[39;00m file:\n\u001b[0;32m      <a href='vscode-notebook-cell:/c%3A/Users/NedyaIbrahim-AI23GBG/Documents/Github/Python-Nedya-Ibrahim/Exercies/L013_Files.ipynb#W4sZmlsZQ%3D%3D?line=1'>2</a>\u001b[0m     content \u001b[39m=\u001b[39m file\u001b[39m.\u001b[39mread()\n\u001b[0;32m      <a href='vscode-notebook-cell:/c%3A/Users/NedyaIbrahim-AI23GBG/Documents/Github/Python-Nedya-Ibrahim/Exercies/L013_Files.ipynb#W4sZmlsZQ%3D%3D?line=2'>3</a>\u001b[0m     \u001b[39mprint\u001b[39m(content)\n",
      "File \u001b[1;32mc:\\Users\\NedyaIbrahim-AI23GBG\\.virtualenvs\\NedyaIbrahim-AI23GBG-WRK3xpSZ\\Lib\\site-packages\\IPython\\core\\interactiveshell.py:286\u001b[0m, in \u001b[0;36m_modified_open\u001b[1;34m(file, *args, **kwargs)\u001b[0m\n\u001b[0;32m    279\u001b[0m \u001b[39mif\u001b[39;00m file \u001b[39min\u001b[39;00m {\u001b[39m0\u001b[39m, \u001b[39m1\u001b[39m, \u001b[39m2\u001b[39m}:\n\u001b[0;32m    280\u001b[0m     \u001b[39mraise\u001b[39;00m \u001b[39mValueError\u001b[39;00m(\n\u001b[0;32m    281\u001b[0m         \u001b[39mf\u001b[39m\u001b[39m\"\u001b[39m\u001b[39mIPython won\u001b[39m\u001b[39m'\u001b[39m\u001b[39mt let you open fd=\u001b[39m\u001b[39m{\u001b[39;00mfile\u001b[39m}\u001b[39;00m\u001b[39m by default \u001b[39m\u001b[39m\"\u001b[39m\n\u001b[0;32m    282\u001b[0m         \u001b[39m\"\u001b[39m\u001b[39mas it is likely to crash IPython. If you know what you are doing, \u001b[39m\u001b[39m\"\u001b[39m\n\u001b[0;32m    283\u001b[0m         \u001b[39m\"\u001b[39m\u001b[39myou can use builtins\u001b[39m\u001b[39m'\u001b[39m\u001b[39m open.\u001b[39m\u001b[39m\"\u001b[39m\n\u001b[0;32m    284\u001b[0m     )\n\u001b[1;32m--> 286\u001b[0m \u001b[39mreturn\u001b[39;00m io_open(file, \u001b[39m*\u001b[39;49margs, \u001b[39m*\u001b[39;49m\u001b[39m*\u001b[39;49mkwargs)\n",
      "\u001b[1;31mFileNotFoundError\u001b[0m: [Errno 2] No such file or directory: '..\\\\Data\\\\hello.txt'"
     ]
    }
   ],
   "source": [
    "with open(\"..\\\\Data\\\\hello.txt\") as file:\n",
    "    content = file.read()\n",
    "    print(content)\n"
   ]
  },
  {
   "cell_type": "markdown",
   "metadata": {},
   "source": [
    "## Open file for writing"
   ]
  },
  {
   "cell_type": "code",
   "execution_count": null,
   "metadata": {},
   "outputs": [],
   "source": [
    "new_content = input(\"Enter text: \")\n",
    "\n",
    "with open(\"..\\\\data\\\\hello.txt\", \"w\") as file:\n",
    "    file.write(new_content + '\\n')\n"
   ]
  },
  {
   "cell_type": "markdown",
   "metadata": {},
   "source": [
    "## Mini-uppgift\n",
    "Skapa ett program som har en tom lista. När programmet körs får användaren mata in namn (input) i en loop tills användaren matar in en tom rad. När den är klar så skriva alla namn ut på skärmen, samt sparas  till en fil (med ett namn på varje rad). Nästa gång man starta programmet så läser den in de befintliga namnen. "
   ]
  },
  {
   "cell_type": "code",
   "execution_count": null,
   "metadata": {},
   "outputs": [],
   "source": [
    "with open(\"..\\\\data\\\\namelist.txt\", \"r\") as file:\n",
    "    names = [name.strip(\"\\n\") for name in file.readlines()]\n",
    "\n",
    "while True:\n",
    "    name = input(\"Enter name: \")\n",
    "    if not name: break\n",
    "    names.append(name)\n",
    "\n",
    "print(names)\n",
    "\n",
    "#for name in names:\n",
    "#    print(name)\n",
    "\n",
    "with open(\"..\\\\data\\\\namelist.txt\", \"w\") as file:\n",
    "    file.writelines([name + '\\n' for name in names])\n",
    "\n",
    "print(\"Names are saved!\")\n"
   ]
  },
  {
   "cell_type": "markdown",
   "metadata": {},
   "source": [
    "## Write .CSV file"
   ]
  },
  {
   "cell_type": "code",
   "execution_count": null,
   "metadata": {},
   "outputs": [],
   "source": [
    "students = [\n",
    "    {\"name\": \"adam\", \"class\": \"AI23\", \"email\": \"adam@gmail.com\"},\n",
    "    {\"name\": \"kalle\", \"class\": \"AI23\", \"email\": \"kalle@gmail.com\"},\n",
    "    {\"name\": \"eva\", \"class\": \"AI22\", \"email\": \"eva@hotmail.com\"},\n",
    "]\n",
    "\n",
    "print(students)\n",
    "\n",
    "with open(\"..\\\\data\\\\students.csv\", \"w\") as file:\n",
    "    for student in students:\n",
    "        file.write(f\"{student['name']}, {student['class']}, {student['email']}\\n\")"
   ]
  },
  {
   "cell_type": "markdown",
   "metadata": {},
   "source": [
    "## Using csv package"
   ]
  },
  {
   "cell_type": "code",
   "execution_count": null,
   "metadata": {},
   "outputs": [],
   "source": [
    "import csv\n",
    "\n",
    "students = []\n",
    "\n",
    "with open(\"..\\\\data\\\\students.csv\") as file:\n",
    "    reader = csv.DictReader(file)\n",
    "\n",
    "    for row in reader:\n",
    "        #print(row[\"name\"])\n",
    "        students.append({\"name\": row[\"name\"], \"class\": row[\"class\"], \"email\": row[\"email\"]})\n",
    "\n",
    "print(students)\n",
    "\n"
   ]
  },
  {
   "cell_type": "markdown",
   "metadata": {},
   "source": [
    "## Json serialization and deserialization"
   ]
  },
  {
   "cell_type": "code",
   "execution_count": null,
   "metadata": {},
   "outputs": [],
   "source": [
    "import json\n",
    "\n",
    "teacher = {\n",
    "    \"firstname\": \"Fredrik\", \n",
    "    \"lastname\": \"Johansson\", \n",
    "    \"age\": 42,\n",
    "    \"languages\": [\"Python\", \"C#\", \"Javascript\"],\n",
    "    \"contactinfo\": {\n",
    "        \"phone\": \"0702345678\",\n",
    "        \"email\": [\n",
    "            \"fredrik@everyloop.com\", \n",
    "            \"fredrik@gmail.com\", \n",
    "            \"fredrik.johansson@hotmail.com\",\n",
    "        ]\n",
    "    }\n",
    "}\n",
    "\n",
    "serialized_data = json.dumps(teacher, indent=4)\n",
    "\n",
    "# print(serialized_data)\n",
    "\n",
    "with open(\"..\\\\data\\\\teacher.json\", \"w\") as file:\n",
    "    file.write(serialized_data)\n",
    "\n"
   ]
  },
  {
   "cell_type": "code",
   "execution_count": 46,
   "metadata": {},
   "outputs": [
    {
     "name": "stdout",
     "output_type": "stream",
     "text": [
      "{'firstname': 'Fredrik', 'lastname': 'Johansson', 'age': 42, 'languages': ['Python', 'C#', 'Javascript'], 'contactinfo': {'phone': '0702345678', 'email': ['fredrik@everyloop.com', 'fredrik@gmail.com', 'fredrik.johansson@hotmail.com']}}\n"
     ]
    }
   ],
   "source": [
    "with open(\"..\\\\data\\\\teacher.json\", \"r\") as file:\n",
    "    data = file.read()\n",
    "\n",
    "teacher = json.loads(data)\n",
    "\n",
    "print(teacher)\n"
   ]
  },
  {
   "cell_type": "code",
   "execution_count": 48,
   "metadata": {},
   "outputs": [
    {
     "name": "stdout",
     "output_type": "stream",
     "text": [
      "alfa-romero\n",
      "audi\n",
      "bmw\n",
      "chevrolet\n",
      "dodge\n",
      "honda\n",
      "isuzu\n",
      "jaguar\n",
      "mazda\n",
      "mercedes-benz\n",
      "mercury\n",
      "mitsubishi\n",
      "nissan\n",
      "peugot\n",
      "plymouth\n",
      "porsche\n",
      "renault\n",
      "saab\n",
      "subaru\n",
      "toyota\n",
      "volkswagen\n",
      "volvo\n"
     ]
    }
   ],
   "source": [
    "with open(\"..\\\\data\\\\autos_json.json\", \"r\") as file:\n",
    "    data = file.read()\n",
    "\n",
    "cars = json.loads(data)\n",
    "\n",
    "#print(cars[0])\n",
    "\n",
    "#for key, value in cars[0].items():\n",
    "#    print(f\"{key} = {value}\")\n",
    "\n",
    "brands = set([car[\"make\"] for car in cars])\n",
    "\n",
    "for brand in sorted(brands):\n",
    "    print(brand)"
   ]
  }
 ],
 "metadata": {
  "kernelspec": {
   "display_name": "Python-AI23-PtEMjJox",
   "language": "python",
   "name": "python3"
  },
  "language_info": {
   "codemirror_mode": {
    "name": "ipython",
    "version": 3
   },
   "file_extension": ".py",
   "mimetype": "text/x-python",
   "name": "python",
   "nbconvert_exporter": "python",
   "pygments_lexer": "ipython3",
   "version": "3.11.5"
  },
  "orig_nbformat": 4
 },
 "nbformat": 4,
 "nbformat_minor": 2
}
